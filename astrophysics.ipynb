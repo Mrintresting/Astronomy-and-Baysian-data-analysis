{
 "cells": [
  {
   "cell_type": "code",
   "execution_count": null,
   "id": "184d276bb3dfacf4",
   "metadata": {
    "collapsed": false,
    "jupyter": {
     "outputs_hidden": false
    }
   },
   "outputs": [],
   "source": []
  },
  {
   "cell_type": "code",
   "execution_count": 1,
   "id": "ea852dc40be4977b",
   "metadata": {
    "ExecuteTime": {
     "end_time": "2024-02-27T05:21:28.621778Z",
     "start_time": "2024-02-27T05:21:14.866683300Z"
    },
    "collapsed": false,
    "jupyter": {
     "outputs_hidden": false
    }
   },
   "outputs": [
    {
     "name": "stderr",
     "output_type": "stream",
     "text": [
      "\n",
      "KeyboardInterrupt\n",
      "\n"
     ]
    }
   ],
   "source": [
    "import numpy as np\n",
    "import pandas as pd #downloading the packages\n",
    "import matplotlib.pyplot as plt\n",
    "import scipy.optimize\n",
    "import tensorflow as tf\n",
    "import tensorflow_probability as tfp\n",
    "\n",
    "\n",
    "#from sklearn.stats import t\n",
    "\n",
    "import sklearn as sk\n",
    "import scipy.optimize as optimize\n",
    "\n",
    "from scipy.stats import t\n",
    "import distfit\n",
    "from distfit import distfit"
   ]
  },
  {
   "cell_type": "markdown",
   "id": "4bd46c39db85d0e3",
   "metadata": {
    "collapsed": false,
    "jupyter": {
     "outputs_hidden": false
    }
   },
   "source": []
  },
  {
   "cell_type": "code",
   "execution_count": 2,
   "id": "640fd17b-928a-4eff-b932-36796a4acbf8",
   "metadata": {
    "ExecuteTime": {
     "end_time": "2024-02-27T05:21:28.647149600Z",
     "start_time": "2024-02-27T05:21:28.625255700Z"
    }
   },
   "outputs": [],
   "source": [
    "data_1=pd.read_csv(r'C:\\Users\\work\\Downloads\\finaldata-1 (3).zip')#downloading the data"
   ]
  },
  {
   "cell_type": "code",
   "execution_count": 3,
   "id": "94660e73f6fe55b7",
   "metadata": {
    "ExecuteTime": {
     "end_time": "2024-02-27T05:21:30.362365500Z",
     "start_time": "2024-02-27T05:21:30.307654Z"
    },
    "collapsed": false,
    "jupyter": {
     "outputs_hidden": false
    }
   },
   "outputs": [
    {
     "data": {
      "text/html": [
       "<div>\n",
       "<style scoped>\n",
       "    .dataframe tbody tr th:only-of-type {\n",
       "        vertical-align: middle;\n",
       "    }\n",
       "\n",
       "    .dataframe tbody tr th {\n",
       "        vertical-align: top;\n",
       "    }\n",
       "\n",
       "    .dataframe thead th {\n",
       "        text-align: right;\n",
       "    }\n",
       "</style>\n",
       "<table border=\"1\" class=\"dataframe\">\n",
       "  <thead>\n",
       "    <tr style=\"text-align: right;\">\n",
       "      <th></th>\n",
       "      <th>SNo</th>\n",
       "      <th>Year</th>\n",
       "      <th>RA(J2000) (degree)</th>\n",
       "      <th>Dec(J2000) (degree)</th>\n",
       "      <th>Distance (kpc)</th>\n",
       "      <th>Disterr (kpc)</th>\n",
       "      <th>P (%)</th>\n",
       "      <th>Perr (%)</th>\n",
       "      <th>PA (degree)</th>\n",
       "      <th>PAerr (degree)</th>\n",
       "      <th>Jmag (mag)</th>\n",
       "      <th>Jmagerr (mag)</th>\n",
       "      <th>Hmag (mag)</th>\n",
       "      <th>Hmagerr (mag)</th>\n",
       "      <th>Kmag (mag)</th>\n",
       "      <th>Kmagerr (mag)</th>\n",
       "      <th>Av (mag)</th>\n",
       "      <th>Averr (mag)</th>\n",
       "      <th>Temperature (K)</th>\n",
       "      <th>Temperr (K)</th>\n",
       "    </tr>\n",
       "  </thead>\n",
       "  <tbody>\n",
       "    <tr>\n",
       "      <th>0</th>\n",
       "      <td>1</td>\n",
       "      <td>2008</td>\n",
       "      <td>80.665346</td>\n",
       "      <td>33.371732</td>\n",
       "      <td>3.00</td>\n",
       "      <td>0.16</td>\n",
       "      <td>2.12</td>\n",
       "      <td>0.18</td>\n",
       "      <td>151.1</td>\n",
       "      <td>2.4</td>\n",
       "      <td>9.00</td>\n",
       "      <td>0.02</td>\n",
       "      <td>8.89</td>\n",
       "      <td>0.02</td>\n",
       "      <td>8.79</td>\n",
       "      <td>0.02</td>\n",
       "      <td>1.67</td>\n",
       "      <td>0.12</td>\n",
       "      <td>28.72</td>\n",
       "      <td>0.77</td>\n",
       "    </tr>\n",
       "    <tr>\n",
       "      <th>1</th>\n",
       "      <td>2</td>\n",
       "      <td>2008</td>\n",
       "      <td>80.723805</td>\n",
       "      <td>33.392084</td>\n",
       "      <td>2.22</td>\n",
       "      <td>0.10</td>\n",
       "      <td>2.15</td>\n",
       "      <td>0.48</td>\n",
       "      <td>166.8</td>\n",
       "      <td>6.5</td>\n",
       "      <td>11.58</td>\n",
       "      <td>0.02</td>\n",
       "      <td>11.57</td>\n",
       "      <td>0.02</td>\n",
       "      <td>11.54</td>\n",
       "      <td>0.02</td>\n",
       "      <td>0.79</td>\n",
       "      <td>0.02</td>\n",
       "      <td>-</td>\n",
       "      <td>-</td>\n",
       "    </tr>\n",
       "    <tr>\n",
       "      <th>2</th>\n",
       "      <td>3</td>\n",
       "      <td>2008</td>\n",
       "      <td>80.719046</td>\n",
       "      <td>33.386870</td>\n",
       "      <td>2.32</td>\n",
       "      <td>0.12</td>\n",
       "      <td>2.37</td>\n",
       "      <td>0.49</td>\n",
       "      <td>164.3</td>\n",
       "      <td>5.9</td>\n",
       "      <td>11.82</td>\n",
       "      <td>0.02</td>\n",
       "      <td>11.76</td>\n",
       "      <td>0.02</td>\n",
       "      <td>11.71</td>\n",
       "      <td>0.02</td>\n",
       "      <td>0.79</td>\n",
       "      <td>0.02</td>\n",
       "      <td>-</td>\n",
       "      <td>-</td>\n",
       "    </tr>\n",
       "    <tr>\n",
       "      <th>3</th>\n",
       "      <td>4</td>\n",
       "      <td>2008</td>\n",
       "      <td>80.717592</td>\n",
       "      <td>33.384285</td>\n",
       "      <td>2.35</td>\n",
       "      <td>0.15</td>\n",
       "      <td>2.54</td>\n",
       "      <td>0.31</td>\n",
       "      <td>161.6</td>\n",
       "      <td>3.5</td>\n",
       "      <td>11.02</td>\n",
       "      <td>0.02</td>\n",
       "      <td>10.99</td>\n",
       "      <td>0.02</td>\n",
       "      <td>10.99</td>\n",
       "      <td>0.02</td>\n",
       "      <td>0.79</td>\n",
       "      <td>0.02</td>\n",
       "      <td>-</td>\n",
       "      <td>-</td>\n",
       "    </tr>\n",
       "    <tr>\n",
       "      <th>4</th>\n",
       "      <td>5</td>\n",
       "      <td>2008</td>\n",
       "      <td>80.688602</td>\n",
       "      <td>33.371345</td>\n",
       "      <td>0.86</td>\n",
       "      <td>0.01</td>\n",
       "      <td>1.46</td>\n",
       "      <td>0.23</td>\n",
       "      <td>174.1</td>\n",
       "      <td>4.5</td>\n",
       "      <td>10.13</td>\n",
       "      <td>0.03</td>\n",
       "      <td>10.06</td>\n",
       "      <td>0.02</td>\n",
       "      <td>9.99</td>\n",
       "      <td>0.02</td>\n",
       "      <td>0.63</td>\n",
       "      <td>0.1</td>\n",
       "      <td>-</td>\n",
       "      <td>-</td>\n",
       "    </tr>\n",
       "    <tr>\n",
       "      <th>...</th>\n",
       "      <td>...</td>\n",
       "      <td>...</td>\n",
       "      <td>...</td>\n",
       "      <td>...</td>\n",
       "      <td>...</td>\n",
       "      <td>...</td>\n",
       "      <td>...</td>\n",
       "      <td>...</td>\n",
       "      <td>...</td>\n",
       "      <td>...</td>\n",
       "      <td>...</td>\n",
       "      <td>...</td>\n",
       "      <td>...</td>\n",
       "      <td>...</td>\n",
       "      <td>...</td>\n",
       "      <td>...</td>\n",
       "      <td>...</td>\n",
       "      <td>...</td>\n",
       "      <td>...</td>\n",
       "      <td>...</td>\n",
       "    </tr>\n",
       "    <tr>\n",
       "      <th>146</th>\n",
       "      <td>147</td>\n",
       "      <td>2013</td>\n",
       "      <td>80.684603</td>\n",
       "      <td>33.412081</td>\n",
       "      <td>4.07</td>\n",
       "      <td>0.45</td>\n",
       "      <td>2.15</td>\n",
       "      <td>0.21</td>\n",
       "      <td>164.5</td>\n",
       "      <td>2.8</td>\n",
       "      <td>12.80</td>\n",
       "      <td>0.02</td>\n",
       "      <td>12.64</td>\n",
       "      <td>0.02</td>\n",
       "      <td>12.54</td>\n",
       "      <td>0.02</td>\n",
       "      <td>2.16</td>\n",
       "      <td>0.04</td>\n",
       "      <td>-</td>\n",
       "      <td>-</td>\n",
       "    </tr>\n",
       "    <tr>\n",
       "      <th>147</th>\n",
       "      <td>148</td>\n",
       "      <td>2013</td>\n",
       "      <td>80.688044</td>\n",
       "      <td>33.406547</td>\n",
       "      <td>1.68</td>\n",
       "      <td>0.19</td>\n",
       "      <td>2.19</td>\n",
       "      <td>0.13</td>\n",
       "      <td>160.4</td>\n",
       "      <td>1.7</td>\n",
       "      <td>11.52</td>\n",
       "      <td>0.02</td>\n",
       "      <td>11.39</td>\n",
       "      <td>0.02</td>\n",
       "      <td>11.32</td>\n",
       "      <td>0.02</td>\n",
       "      <td>2.16</td>\n",
       "      <td>0.05</td>\n",
       "      <td>-</td>\n",
       "      <td>-</td>\n",
       "    </tr>\n",
       "    <tr>\n",
       "      <th>148</th>\n",
       "      <td>149</td>\n",
       "      <td>2013</td>\n",
       "      <td>80.654093</td>\n",
       "      <td>33.386971</td>\n",
       "      <td>2.71</td>\n",
       "      <td>0.12</td>\n",
       "      <td>2.98</td>\n",
       "      <td>0.13</td>\n",
       "      <td>155.5</td>\n",
       "      <td>1.2</td>\n",
       "      <td>11.84</td>\n",
       "      <td>0.02</td>\n",
       "      <td>11.69</td>\n",
       "      <td>0.02</td>\n",
       "      <td>11.62</td>\n",
       "      <td>0.02</td>\n",
       "      <td>1.67</td>\n",
       "      <td>0.05</td>\n",
       "      <td>-</td>\n",
       "      <td>-</td>\n",
       "    </tr>\n",
       "    <tr>\n",
       "      <th>149</th>\n",
       "      <td>150</td>\n",
       "      <td>2013</td>\n",
       "      <td>80.683325</td>\n",
       "      <td>33.440732</td>\n",
       "      <td>2.48</td>\n",
       "      <td>0.15</td>\n",
       "      <td>2.31</td>\n",
       "      <td>0.11</td>\n",
       "      <td>156.5</td>\n",
       "      <td>1.4</td>\n",
       "      <td>9.65</td>\n",
       "      <td>0.02</td>\n",
       "      <td>9.63</td>\n",
       "      <td>0.02</td>\n",
       "      <td>9.58</td>\n",
       "      <td>0.02</td>\n",
       "      <td>2.16</td>\n",
       "      <td>0.05</td>\n",
       "      <td>-</td>\n",
       "      <td>-</td>\n",
       "    </tr>\n",
       "    <tr>\n",
       "      <th>150</th>\n",
       "      <td>151</td>\n",
       "      <td>2013</td>\n",
       "      <td>80.693933</td>\n",
       "      <td>33.419862</td>\n",
       "      <td>2.14</td>\n",
       "      <td>0.18</td>\n",
       "      <td>2.62</td>\n",
       "      <td>0.08</td>\n",
       "      <td>156.9</td>\n",
       "      <td>0.9</td>\n",
       "      <td>8.91</td>\n",
       "      <td>0.02</td>\n",
       "      <td>8.88</td>\n",
       "      <td>0.02</td>\n",
       "      <td>8.85</td>\n",
       "      <td>0.02</td>\n",
       "      <td>2.16</td>\n",
       "      <td>0.05</td>\n",
       "      <td>-</td>\n",
       "      <td>-</td>\n",
       "    </tr>\n",
       "  </tbody>\n",
       "</table>\n",
       "<p>151 rows × 20 columns</p>\n",
       "</div>"
      ],
      "text/plain": [
       "     SNo  Year  RA(J2000) (degree)  Dec(J2000) (degree)  Distance (kpc)  \\\n",
       "0      1  2008           80.665346            33.371732            3.00   \n",
       "1      2  2008           80.723805            33.392084            2.22   \n",
       "2      3  2008           80.719046            33.386870            2.32   \n",
       "3      4  2008           80.717592            33.384285            2.35   \n",
       "4      5  2008           80.688602            33.371345            0.86   \n",
       "..   ...   ...                 ...                  ...             ...   \n",
       "146  147  2013           80.684603            33.412081            4.07   \n",
       "147  148  2013           80.688044            33.406547            1.68   \n",
       "148  149  2013           80.654093            33.386971            2.71   \n",
       "149  150  2013           80.683325            33.440732            2.48   \n",
       "150  151  2013           80.693933            33.419862            2.14   \n",
       "\n",
       "     Disterr (kpc)  P (%)  Perr (%)  PA (degree)  PAerr (degree)  Jmag (mag)  \\\n",
       "0             0.16   2.12      0.18        151.1             2.4        9.00   \n",
       "1             0.10   2.15      0.48        166.8             6.5       11.58   \n",
       "2             0.12   2.37      0.49        164.3             5.9       11.82   \n",
       "3             0.15   2.54      0.31        161.6             3.5       11.02   \n",
       "4             0.01   1.46      0.23        174.1             4.5       10.13   \n",
       "..             ...    ...       ...          ...             ...         ...   \n",
       "146           0.45   2.15      0.21        164.5             2.8       12.80   \n",
       "147           0.19   2.19      0.13        160.4             1.7       11.52   \n",
       "148           0.12   2.98      0.13        155.5             1.2       11.84   \n",
       "149           0.15   2.31      0.11        156.5             1.4        9.65   \n",
       "150           0.18   2.62      0.08        156.9             0.9        8.91   \n",
       "\n",
       "     Jmagerr (mag)  Hmag (mag)  Hmagerr (mag)  Kmag (mag)  Kmagerr (mag)  \\\n",
       "0             0.02        8.89           0.02        8.79           0.02   \n",
       "1             0.02       11.57           0.02       11.54           0.02   \n",
       "2             0.02       11.76           0.02       11.71           0.02   \n",
       "3             0.02       10.99           0.02       10.99           0.02   \n",
       "4             0.03       10.06           0.02        9.99           0.02   \n",
       "..             ...         ...            ...         ...            ...   \n",
       "146           0.02       12.64           0.02       12.54           0.02   \n",
       "147           0.02       11.39           0.02       11.32           0.02   \n",
       "148           0.02       11.69           0.02       11.62           0.02   \n",
       "149           0.02        9.63           0.02        9.58           0.02   \n",
       "150           0.02        8.88           0.02        8.85           0.02   \n",
       "\n",
       "    Av (mag) Averr (mag) Temperature (K) Temperr (K)  \n",
       "0       1.67        0.12           28.72        0.77  \n",
       "1       0.79        0.02               -           -  \n",
       "2       0.79        0.02               -           -  \n",
       "3       0.79        0.02               -           -  \n",
       "4       0.63         0.1               -           -  \n",
       "..       ...         ...             ...         ...  \n",
       "146     2.16        0.04               -           -  \n",
       "147     2.16        0.05               -           -  \n",
       "148     1.67        0.05               -           -  \n",
       "149     2.16        0.05               -           -  \n",
       "150     2.16        0.05               -           -  \n",
       "\n",
       "[151 rows x 20 columns]"
      ]
     },
     "execution_count": 3,
     "metadata": {},
     "output_type": "execute_result"
    }
   ],
   "source": [
    "data_1#inspecting the data\n"
   ]
  },
  {
   "cell_type": "code",
   "execution_count": 3,
   "id": "e0536ba35b240435",
   "metadata": {
    "ExecuteTime": {
     "end_time": "2024-02-27T05:21:30.930968600Z",
     "start_time": "2024-02-27T05:21:30.913458300Z"
    },
    "collapsed": false,
    "jupyter": {
     "outputs_hidden": false
    }
   },
   "outputs": [],
   "source": []
  },
  {
   "cell_type": "code",
   "execution_count": 4,
   "id": "ce1b9a816a199d10",
   "metadata": {
    "ExecuteTime": {
     "end_time": "2024-02-27T05:21:31.636829400Z",
     "start_time": "2024-02-27T05:21:31.570415800Z"
    },
    "collapsed": false,
    "jupyter": {
     "outputs_hidden": false
    }
   },
   "outputs": [],
   "source": [
    "#replacing - with nan values because empty places are represented with nan values\n",
    "data_1=data_1.replace('-',np.nan)"
   ]
  },
  {
   "cell_type": "code",
   "execution_count": 5,
   "id": "39a0d458e1f471ed",
   "metadata": {
    "ExecuteTime": {
     "end_time": "2024-02-27T05:21:31.997533700Z",
     "start_time": "2024-02-27T05:21:31.932461600Z"
    },
    "collapsed": false,
    "jupyter": {
     "outputs_hidden": false
    }
   },
   "outputs": [
    {
     "data": {
      "text/plain": [
       "Index(['SNo', 'Year', 'RA(J2000) (degree)', 'Dec(J2000) (degree)',\n",
       "       'Distance (kpc)', 'Disterr (kpc)', 'P (%)', 'Perr (%)', 'PA (degree)',\n",
       "       'PAerr (degree)', 'Jmag (mag)', 'Jmagerr (mag)', 'Hmag (mag)',\n",
       "       'Hmagerr (mag)', 'Kmag (mag)', 'Kmagerr (mag)', 'Av (mag)',\n",
       "       'Averr (mag)', 'Temperature (K)', 'Temperr (K)'],\n",
       "      dtype='object')"
      ]
     },
     "execution_count": 5,
     "metadata": {},
     "output_type": "execute_result"
    }
   ],
   "source": [
    "data_1.columns\n",
    "#looking at column names"
   ]
  },
  {
   "cell_type": "code",
   "execution_count": 6,
   "id": "365030aec079695a",
   "metadata": {
    "ExecuteTime": {
     "end_time": "2024-02-27T05:21:32.509075800Z",
     "start_time": "2024-02-27T05:21:32.484957200Z"
    },
    "collapsed": false,
    "jupyter": {
     "outputs_hidden": false
    }
   },
   "outputs": [
    {
     "name": "stdout",
     "output_type": "stream",
     "text": [
      "SNo 0\n",
      "Year 0\n",
      "RA(J2000) (degree) 0\n",
      "Dec(J2000) (degree) 0\n",
      "Distance (kpc) 0\n",
      "Disterr (kpc) 0\n",
      "P (%) 0\n",
      "Perr (%) 0\n",
      "PA (degree) 0\n",
      "PAerr (degree) 0\n",
      "Jmag (mag) 0\n",
      "Jmagerr (mag) 0\n",
      "Hmag (mag) 0\n",
      "Hmagerr (mag) 0\n",
      "Kmag (mag) 0\n",
      "Kmagerr (mag) 0\n",
      "Av (mag) 8\n",
      "Averr (mag) 8\n",
      "Temperature (K) 123\n",
      "Temperr (K) 123\n"
     ]
    }
   ],
   "source": [
    "for i in data_1.columns:\n",
    "    print(i,data_1[i].isna().sum())\n",
    "    #looking at nan values in the data"
   ]
  },
  {
   "cell_type": "code",
   "execution_count": 7,
   "id": "ba3ed75a21f1968a",
   "metadata": {
    "ExecuteTime": {
     "end_time": "2024-02-27T05:21:33.000199700Z",
     "start_time": "2024-02-27T05:21:32.987392900Z"
    },
    "collapsed": false,
    "jupyter": {
     "outputs_hidden": false
    }
   },
   "outputs": [],
   "source": [
    "for i in data_1.columns:\n",
    "    if data_1[i].isna().sum()>8:\n",
    "        data_1=data_1.drop([i],axis=1)\n",
    "        #dropping columns that has more thah 8 nan values"
   ]
  },
  {
   "cell_type": "code",
   "execution_count": 8,
   "id": "30425d6d36edc443",
   "metadata": {
    "ExecuteTime": {
     "end_time": "2024-02-27T05:21:33.451854900Z",
     "start_time": "2024-02-27T05:21:33.377649300Z"
    },
    "collapsed": false,
    "jupyter": {
     "outputs_hidden": false
    }
   },
   "outputs": [],
   "source": [
    "data_1=data_1.dropna().reset_index(drop=True)\n",
    "#dropping rows that has more nanavalues"
   ]
  },
  {
   "cell_type": "code",
   "execution_count": 9,
   "id": "48f811185d0a023",
   "metadata": {
    "ExecuteTime": {
     "end_time": "2024-02-27T05:21:33.983454800Z",
     "start_time": "2024-02-27T05:21:33.902544600Z"
    },
    "collapsed": false,
    "jupyter": {
     "outputs_hidden": false
    }
   },
   "outputs": [
    {
     "name": "stdout",
     "output_type": "stream",
     "text": [
      "SNo int64\n",
      "Year int64\n",
      "RA(J2000) (degree) float64\n",
      "Dec(J2000) (degree) float64\n",
      "Distance (kpc) float64\n",
      "Disterr (kpc) float64\n",
      "P (%) float64\n",
      "Perr (%) float64\n",
      "PA (degree) float64\n",
      "PAerr (degree) float64\n",
      "Jmag (mag) float64\n",
      "Jmagerr (mag) float64\n",
      "Hmag (mag) float64\n",
      "Hmagerr (mag) float64\n",
      "Kmag (mag) float64\n",
      "Kmagerr (mag) float64\n",
      "Av (mag) object\n",
      "Averr (mag) object\n"
     ]
    }
   ],
   "source": [
    "for i in data_1.columns:\n",
    "    print(i,data_1[i].dtypes)\n",
    "    if data_1[i].dtype == 'object':\n",
    "        data_1[i]=data_1[i].astype('float')\n",
    "        #some of the data types are object so we are converting every one to float"
   ]
  },
  {
   "cell_type": "code",
   "execution_count": 10,
   "id": "f0ae16cc5692174d",
   "metadata": {
    "ExecuteTime": {
     "end_time": "2024-02-27T05:21:34.577751400Z",
     "start_time": "2024-02-27T05:21:34.542762100Z"
    },
    "collapsed": false,
    "jupyter": {
     "outputs_hidden": false
    }
   },
   "outputs": [],
   "source": [
    "data_1['P/d']=data_1['P (%)']/data_1['Distance (kpc)']\n",
    "data_1['P/Av']=data_1['P (%)']/data_1['Av (mag)']\n",
    "#making new columns"
   ]
  },
  {
   "cell_type": "code",
   "execution_count": 11,
   "id": "7e123c87e44e464c",
   "metadata": {
    "ExecuteTime": {
     "end_time": "2024-02-27T05:21:35.387333300Z",
     "start_time": "2024-02-27T05:21:35.301935Z"
    },
    "collapsed": false,
    "jupyter": {
     "outputs_hidden": false
    }
   },
   "outputs": [
    {
     "data": {
      "text/plain": [
       "Index(['SNo', 'Year', 'RA(J2000) (degree)', 'Dec(J2000) (degree)',\n",
       "       'Distance (kpc)', 'Disterr (kpc)', 'P (%)', 'Perr (%)', 'PA (degree)',\n",
       "       'PAerr (degree)', 'Jmag (mag)', 'Jmagerr (mag)', 'Hmag (mag)',\n",
       "       'Hmagerr (mag)', 'Kmag (mag)', 'Kmagerr (mag)', 'Av (mag)',\n",
       "       'Averr (mag)', 'P/d', 'P/Av'],\n",
       "      dtype='object')"
      ]
     },
     "execution_count": 11,
     "metadata": {},
     "output_type": "execute_result"
    }
   ],
   "source": [
    "data_1.columns"
   ]
  },
  {
   "cell_type": "code",
   "execution_count": 12,
   "id": "a6308663bc0fcf3b",
   "metadata": {
    "ExecuteTime": {
     "end_time": "2024-02-27T05:21:36.744585200Z",
     "start_time": "2024-02-27T05:21:36.617437100Z"
    },
    "collapsed": false,
    "jupyter": {
     "outputs_hidden": false
    }
   },
   "outputs": [],
   "source": [
    "Y=data_1['P/Av']\n",
    "Y = tf.cast(Y, tf.float32)\n",
    "#defining Y as P/Av"
   ]
  },
  {
   "cell_type": "code",
   "execution_count": 11,
   "id": "d5c68c44fe595d72",
   "metadata": {
    "ExecuteTime": {
     "end_time": "2024-02-27T05:21:36.072842900Z",
     "start_time": "2024-02-27T05:21:35.973929200Z"
    },
    "collapsed": false,
    "jupyter": {
     "outputs_hidden": false
    }
   },
   "outputs": [],
   "source": []
  },
  {
   "cell_type": "code",
   "execution_count": 14,
   "id": "210189fbdf348d6",
   "metadata": {
    "ExecuteTime": {
     "end_time": "2024-02-27T05:21:37.757371400Z",
     "start_time": "2024-02-27T05:21:37.741603600Z"
    },
    "collapsed": false,
    "jupyter": {
     "outputs_hidden": false
    }
   },
   "outputs": [],
   "source": [
    "X=data_1['Av (mag)']\n",
    "X=tf.cast(X, tf.float32)\n",
    "#defining X as Av"
   ]
  },
  {
   "cell_type": "code",
   "execution_count": 15,
   "id": "338ba0863ce68231",
   "metadata": {
    "ExecuteTime": {
     "end_time": "2024-02-27T05:21:38.300181200Z",
     "start_time": "2024-02-27T05:21:38.289232900Z"
    },
    "collapsed": false,
    "jupyter": {
     "outputs_hidden": false
    }
   },
   "outputs": [
    {
     "name": "stdout",
     "output_type": "stream",
     "text": [
      "tf.Tensor(\n",
      "[1.67 0.79 0.79 0.79 0.63 0.63 1.07 1.24 1.07 0.68 0.79 1.15 0.88 0.87\n",
      " 0.83 0.82 0.82 2.16 0.86 1.15 0.99 0.86 0.87 0.6  0.88 0.49 1.12 0.99\n",
      " 1.34 0.79 1.67 0.71 1.7  0.67 1.61 0.74 0.96 2.53 2.38 0.63 0.82 0.71\n",
      " 0.7  1.42 0.77 0.77 1.79 1.12 0.69 0.63 0.68 1.58 0.87 0.77 0.55 1.48\n",
      " 1.12 1.49 0.69 1.48 0.58 1.04 1.05 1.59 0.96 1.12 0.58 1.4  1.4  0.66\n",
      " 0.56 0.6  0.63 0.69 0.6  0.69 0.78 1.04 1.74 0.44 1.04 1.75 0.52 0.44\n",
      " 0.6  1.07 0.46 1.05 0.93 0.97 1.08 0.69 1.73 0.41 1.04 1.89 0.66 1.89\n",
      " 1.18 0.82 1.83 1.09 0.88 1.84 0.82 0.77 0.67 0.82 0.77 1.59 0.81 1.64\n",
      " 1.03 0.82 0.74 2.03 1.07 0.58 1.07 0.66 0.6  0.46 1.1  0.38 0.66 0.69\n",
      " 0.47 2.16 0.47 0.47 0.71 1.1  0.44 2.16 2.16 2.16 2.16 2.6  2.16 2.16\n",
      " 1.67 2.16 2.16], shape=(143,), dtype=float32)\n"
     ]
    }
   ],
   "source": [
    "print(X)"
   ]
  },
  {
   "cell_type": "code",
   "execution_count": 298,
   "id": "c1c1f1b6c916ea16",
   "metadata": {
    "ExecuteTime": {
     "end_time": "2024-02-24T07:08:37.921773900Z",
     "start_time": "2024-02-24T07:08:37.406996800Z"
    },
    "collapsed": false,
    "jupyter": {
     "outputs_hidden": false
    }
   },
   "outputs": [
    {
     "name": "stderr",
     "output_type": "stream",
     "text": [
      "[distfit] >INFO> fit\n",
      "[distfit] >INFO> transform\n",
      "[distfit] >INFO> [norm      ] [0.00 sec] [RSS: 0.0705281] [loc=2.528 scale=0.802]\n",
      "[distfit] >INFO> [expon     ] [0.00 sec] [RSS: 0.56393] [loc=0.832 scale=1.696]\n",
      "[distfit] >INFO> [pareto    ] [0.00 sec] [RSS: 0.56393] [loc=-268435455.168 scale=268435456.000]\n",
      "[distfit] >INFO> [dweibull  ] [0.01 sec] [RSS: 0.0658211] [loc=2.476 scale=0.678]\n",
      "[distfit] >INFO> [t         ] [0.17 sec] [RSS: 0.0676189] [loc=2.526 scale=0.780]\n",
      "[distfit] >INFO> [genextreme] [0.03 sec] [RSS: 0.0917443] [loc=2.222 scale=0.786]\n",
      "[distfit] >INFO> [gamma     ] [0.01 sec] [RSS: 0.0759158] [loc=-12.500 scale=0.043]\n",
      "[distfit] >INFO> [lognorm   ] [0.00 sec] [RSS: 0.075831] [loc=-20.091 scale=22.604]\n",
      "[distfit] >INFO> [beta      ] [0.01 sec] [RSS: 0.0785137] [loc=-8.313 scale=544931.959]\n",
      "[distfit] >INFO> [uniform   ] [0.00 sec] [RSS: 0.415709] [loc=0.832 scale=4.145]\n",
      "[distfit] >INFO> [loggamma  ] [0.02 sec] [RSS: 0.0694636] [loc=-167.441 scale=24.786]\n",
      "[distfit] >INFO> Compute confidence intervals [parametric]\n",
      "[distfit] >INFO> Ploting Summary.\n"
     ]
    },
    {
     "data": {
      "text/plain": [
       "(<Figure size 2000x1000 with 1 Axes>,\n",
       " <Axes: title={'center': 'Dweibull (best fit)'}, xlabel='Probability Density Function (PDF)', ylabel='RSS (goodness of fit test)'>)"
      ]
     },
     "execution_count": 298,
     "metadata": {},
     "output_type": "execute_result"
    },
    {
     "data": {
      "image/png": "[encoded data removed]",
      "text/plain": [
       "<Figure size 2000x1000 with 1 Axes>"
      ]
     },
     "metadata": {},
     "output_type": "display_data"
    }
   ],
   "source": [
    "dfit=distfit()\n",
    "dfit.fit_transform(Y)\n",
    "\n",
    "dfit.plot_summary()"
   ]
  },
  {
   "cell_type": "code",
   "execution_count": 599,
   "id": "661365b0876e3446",
   "metadata": {
    "ExecuteTime": {
     "end_time": "2024-02-27T12:32:39.025941100Z",
     "start_time": "2024-02-27T12:32:38.984429300Z"
    },
    "collapsed": false,
    "jupyter": {
     "outputs_hidden": false
    }
   },
   "outputs": [],
   "source": [
    "class BrokenPowerLaw(tf.keras.layers.Layer):#making a custom power law function so that we can use it later\n",
    "    def __init__(self,alpha1,beta11,beta21,Av1):\n",
    "        super(BrokenPowerLaw,self).__init__()\n",
    "        self.alpha1=alpha1\n",
    "        self.beta11=beta11\n",
    "        self.beta21=beta21\n",
    "        self.Av1=Av1\n",
    "        self.Av1=tf.constant(self.Av1,dtype=tf.float32)\n",
    "        #self.sigma=sigma\n",
    "        \n",
    "    def call(self,inputs):\n",
    "        #input=inputs\n",
    "        self.inputs=tf.constant(inputs,dtype=tf.float32)\n",
    "        '''self.alpha1=tf.constant([self.alpha1],dtype=tf.float32)\n",
    "        print('ooo')\n",
    "        self.beta11=tf.constant([self.beta11],dtype=tf.float32)\n",
    "        self.beta21=tf.constant([self.beta21],dtype=tf.float32)\n",
    "        self.Av1=tf.constant(self.Av1,dtype=tf.float32)\n",
    "        \n",
    "        print('line one')'''\n",
    "\n",
    "        mask_low=tf.less_equal(self.inputs,self.Av1)\n",
    "\n",
    "        mask_high=tf.greater(self.inputs,self.Av1)\n",
    "        \n",
    "\n",
    "        output=tf.where(mask_low,self.alpha1*(self.inputs/self.Av1)**self.beta11, self.alpha1*(self.inputs/self.Av1)**self.beta21)\n",
    "        output=tf.constant(output,dtype=tf.float32)\n",
    "        return output"
   ]
  },
  {
   "cell_type": "code",
   "execution_count": 600,
   "id": "c8c0b086c4db6c72",
   "metadata": {
    "ExecuteTime": {
     "end_time": "2024-02-27T12:32:39.750161500Z",
     "start_time": "2024-02-27T12:32:39.687454700Z"
    },
    "collapsed": false,
    "jupyter": {
     "outputs_hidden": false
    }
   },
   "outputs": [],
   "source": [
    "def likelihood(data,params):\n",
    "    #params=tf.constant(params,dtype=tf.float32)\n",
    "    \n",
    "    #defining likelihood function for the broken power law distributio \n",
    "    \n",
    "    ind_par=BrokenPowerLaw(params[0],params[1],params[2],params[3])\n",
    "    exp_val=ind_par(data[0])\n",
    "    #print('e',exp_val)\n",
    "    #exp_val=tf.constant([exp_val],dtype=tf.float32)\n",
    "    \n",
    "    act_val=data[1]\n",
    "    #print('a',act_val)\n",
    "    #act_val=tf.constant([act_val],dtype=tf.float32)\n",
    "    return tf.reshape([tf.exp(-tf.reduce_sum(tf.square(act_val-exp_val)))],[1])\n",
    "    "
   ]
  },
  {
   "cell_type": "code",
   "execution_count": 601,
   "id": "260b1f2ea6d3957",
   "metadata": {
    "ExecuteTime": {
     "end_time": "2024-02-27T12:32:40.149703100Z",
     "start_time": "2024-02-27T12:32:40.123834700Z"
    },
    "collapsed": false,
    "jupyter": {
     "outputs_hidden": false
    }
   },
   "outputs": [],
   "source": [
    "\n",
    "def prior_log_prob(params):\n",
    "    lower_bound=tf.constant([-2],dtype=tf.float32)\n",
    "    upper_bound=tf.constant([5],dtype=tf.float32)\n",
    "    log_prob=-np.log(upper_bound-lower_bound)\n",
    "    plp=[]\n",
    "    for i in params:\n",
    "        if lower_bound<=i<=upper_bound:\n",
    "            plp.append(log_prob)\n",
    "        else:\n",
    "            plp.append(tf.constant(np.inf))\n",
    "            \n",
    "    plp=tf.constant(plp,dtype=tf.float32)\n",
    "    plp=tf.reshape(plp,[4,])\n",
    "    return plp\n",
    "\n",
    "#defining  prior log uniform distributions  for our variables alpha,beta1,beta2,AV\n",
    "    "
   ]
  },
  {
   "cell_type": "code",
   "execution_count": 603,
   "id": "8e3de11538b5e95b",
   "metadata": {
    "ExecuteTime": {
     "end_time": "2024-02-27T12:32:40.942946100Z",
     "start_time": "2024-02-27T12:32:40.895544300Z"
    },
    "collapsed": false,
    "jupyter": {
     "outputs_hidden": false
    }
   },
   "outputs": [],
   "source": [
    "\n",
    "def target_log_prob(params):\n",
    "    a= likelihood([X,Y],params)\n",
    "    b=prior_log_prob(params)\n",
    "    c=a+b\n",
    "    c=tf.reshape(c,[4,])\n",
    "    c=tf.constant(c,dtype=tf.float32)\n",
    "    return c\n",
    "#defining target log probabilites to use in our mcmc method. this is same as log(P(data/parameres)*P(parametres))\n",
    "\n",
    "def plp(proposed_params,current_params):\n",
    "    return tfp.distribution.Normal(loc=current_params,scale=[0.1,0.1,0.1,0.1]).log_prob(proposed_params)\n",
    "    \n",
    "\n",
    "\n",
    "        \n",
    "\n"
   ]
  },
  {
   "cell_type": "code",
   "execution_count": 613,
   "id": "75762adf32fb9f1f",
   "metadata": {
    "ExecuteTime": {
     "end_time": "2024-02-27T12:33:09.146990400Z",
     "start_time": "2024-02-27T12:33:08.947016700Z"
    },
    "collapsed": false,
    "jupyter": {
     "outputs_hidden": false
    }
   },
   "outputs": [],
   "source": [
    "zzz=tfp.mcmc.RandomWalkMetropolis(\n",
    "    target_log_prob_fn=target_log_prob,\n",
    "    new_state_fn=None,\n",
    "    experimental_shard_axis_names=None,\n",
    "    name=None)\n",
    "\n",
    "my_list=[0.5,0.5,0.5,0.5]\n",
    "#my_list=np.array(my_list)\n",
    "my_list=tf.constant(my_list,dtype=tf.float32)\n",
    "\n",
    "samples=tfp.mcmc.sample_chain(\n",
    "    kernel=zzz,\n",
    "    num_results=10,\n",
    "    current_state=my_list\n",
    ")\n",
    " \n",
    "\n",
    "#this is random walk metroplis mcmc method from which we sample \n",
    "\n",
    "\n",
    "\n",
    "\n",
    "\n",
    "\n",
    "\n",
    "\n"
   ]
  },
  {
   "cell_type": "code",
   "execution_count": 589,
   "id": "37363842009be44d",
   "metadata": {
    "ExecuteTime": {
     "end_time": "2024-02-27T12:30:53.717709200Z",
     "start_time": "2024-02-27T12:30:53.655228100Z"
    },
    "collapsed": false,
    "jupyter": {
     "outputs_hidden": false
    }
   },
   "outputs": [],
   "source": []
  },
  {
   "cell_type": "markdown",
   "id": "c12fe3ec64d5f04f",
   "metadata": {
    "collapsed": false,
    "jupyter": {
     "outputs_hidden": false
    }
   },
   "source": []
  },
  {
   "cell_type": "code",
   "execution_count": 614,
   "id": "9bba087c23b5f5ef",
   "metadata": {
    "ExecuteTime": {
     "end_time": "2024-02-27T12:33:33.870008Z",
     "start_time": "2024-02-27T12:33:33.821980700Z"
    },
    "collapsed": false,
    "jupyter": {
     "outputs_hidden": false
    }
   },
   "outputs": [
    {
     "name": "stdout",
     "output_type": "stream",
     "text": [
      "(10, 4)\n",
      "tf.Tensor(\n",
      "[[-1.2422236   0.46935773  0.00906965  1.4375756 ]\n",
      " [ 0.90516675 -0.2825997  -0.37815407  2.238264  ]\n",
      " [ 0.4868721  -1.2189198   0.27920803  1.6146281 ]\n",
      " [ 0.4868721  -1.2189198   0.27920803  1.6146281 ]\n",
      " [-0.96275866 -1.1491296   1.9426786   0.70175695]\n",
      " [-0.43078685 -0.7620598   1.3050466   0.23230678]\n",
      " [ 1.1838269  -1.1735666   1.4636275   0.54630345]\n",
      " [ 0.47331762 -0.2039063   1.4832808   0.473675  ]\n",
      " [ 0.47331762 -0.2039063   1.4832808   0.473675  ]\n",
      " [ 0.47331762 -0.2039063   1.4832808   0.473675  ]], shape=(10, 4), dtype=float32)\n",
      "tf.Tensor([ 0.18469217 -0.59475553  0.9350527   0.9806488 ], shape=(4,), dtype=float32)\n",
      "Estimated mean: [ 0.18469217 -0.59475553  0.9350527   0.9806488 ]\n",
      "Estimated standard deviation: [0.7537533  0.56014043 0.7599659  0.6474378 ]\n"
     ]
    }
   ],
   "source": [
    "#samples\n",
    "req_val=samples.all_states\n",
    "print(req_val.shape)\n",
    "print(req_val)\n",
    "sample_mean = tf.math.reduce_mean(req_val, axis=0)\n",
    "print(sample_mean)\n",
    "sample_std = tf.sqrt(\n",
    "    tf.math.reduce_mean(\n",
    "        tf.math.squared_difference(req_val, sample_mean),\n",
    "        axis=0))\n",
    "\n",
    "print('Estimated mean: {}'.format(sample_mean))\n",
    "print('Estimated standard deviation: {}'.format(sample_std))\n",
    "#estimated mean for our data is given below"
   ]
  },
  {
   "cell_type": "markdown",
   "id": "27019d4a-4a11-44ef-ba21-e4d1a29f6f7d",
   "metadata": {},
   "source": [
    "# the part where we did bayesian analysis is over I did many mistakes and tried many thing below are those tried  methods\n"
   ]
  },
  {
   "cell_type": "code",
   "execution_count": 210,
   "id": "e3f5d0b6055dc803",
   "metadata": {
    "ExecuteTime": {
     "end_time": "2024-02-27T06:20:38.259067800Z",
     "start_time": "2024-02-27T06:20:38.230963800Z"
    },
    "collapsed": false,
    "jupyter": {
     "outputs_hidden": false
    }
   },
   "outputs": [
    {
     "data": {
      "text/plain": [
       "'def log_likelihood(tensor,pdf_func,*args):\\n    probabilities=pdf_func(tensor)\\n    probabilities=np.clip(probabilities,np.finfo(tf.float).eps,1-np.finfo(tf.float).eps)\\n    \\n    \\n    log_probs=np.log(probabilities)\\n    return log_probs'"
      ]
     },
     "execution_count": 210,
     "metadata": {},
     "output_type": "execute_result"
    }
   ],
   "source": [
    "'''def log_likelihood(tensor,pdf_func,*args):\n",
    "    probabilities=pdf_func(tensor)\n",
    "    probabilities=np.clip(probabilities,np.finfo(tf.float).eps,1-np.finfo(tf.float).eps)\n",
    "    \n",
    "    \n",
    "    log_probs=np.log(probabilities)\n",
    "    return log_probs'''"
   ]
  },
  {
   "cell_type": "code",
   "execution_count": 602,
   "id": "54de19a7f2db19c2",
   "metadata": {
    "ExecuteTime": {
     "end_time": "2024-02-27T12:32:40.551273200Z",
     "start_time": "2024-02-27T12:32:40.513534400Z"
    },
    "collapsed": false,
    "jupyter": {
     "outputs_hidden": false
    }
   },
   "outputs": [
    {
     "name": "stdout",
     "output_type": "stream",
     "text": [
      "<class 'tensorflow.python.framework.ops.EagerTensor'>\n"
     ]
    }
   ],
   "source": [
    "c=tf.constant([2.6,0.01,-1.0,0.96],dtype=tf.float32)\n",
    "print(type(c))"
   ]
  },
  {
   "cell_type": "code",
   "execution_count": 211,
   "id": "d228e2bbf7b5be55",
   "metadata": {
    "ExecuteTime": {
     "end_time": "2024-02-27T06:20:38.644714300Z",
     "start_time": "2024-02-27T06:20:38.617135800Z"
    },
    "collapsed": false,
    "jupyter": {
     "outputs_hidden": false
    }
   },
   "outputs": [
    {
     "data": {
      "text/plain": [
       "'c=prior_log_prob([1,2,1.5,0.96])+likelihood([X,Y],[1,2,1.5,0.96])\\ntf.constant(c,dtype=tf.float32)\\nc'"
      ]
     },
     "execution_count": 211,
     "metadata": {},
     "output_type": "execute_result"
    }
   ],
   "source": [
    "'''c=prior_log_prob([1,2,1.5,0.96])+likelihood([X,Y],[1,2,1.5,0.96])\n",
    "tf.constant(c,dtype=tf.float32)\n",
    "c'''"
   ]
  },
  {
   "cell_type": "code",
   "execution_count": 213,
   "id": "553a363b4dda1ac7",
   "metadata": {
    "ExecuteTime": {
     "end_time": "2024-02-27T06:20:39.772442900Z",
     "start_time": "2024-02-27T06:20:39.748373Z"
    },
    "collapsed": false,
    "jupyter": {
     "outputs_hidden": false
    }
   },
   "outputs": [
    {
     "name": "stdout",
     "output_type": "stream",
     "text": [
      "output\n"
     ]
    },
    {
     "data": {
      "text/plain": [
       "<tf.Tensor: shape=(4,), dtype=float32, numpy=array([-1.9459102, -1.9459102, -1.9459102, -1.9459102], dtype=float32)>"
      ]
     },
     "execution_count": 213,
     "metadata": {},
     "output_type": "execute_result"
    }
   ],
   "source": [
    "target_log_prob([1,1.1,0.2,1.3])"
   ]
  },
  {
   "cell_type": "code",
   "execution_count": 283,
   "id": "1613d1cbe185ddd4",
   "metadata": {
    "ExecuteTime": {
     "end_time": "2024-02-27T06:31:59.553728900Z",
     "start_time": "2024-02-27T06:31:59.508956300Z"
    },
    "collapsed": false,
    "jupyter": {
     "outputs_hidden": false
    }
   },
   "outputs": [
    {
     "data": {
      "text/plain": [
       "'zzz=tfp.mcmc.RandomWalkMetropolis(\\n   target_log_prob_fn=target_log_prob,\\n   new_state_fn=None,\\n   experimental_shard_axis_names=None,\\n   name=None)\\n\\nmy_list=[1.,2.,3.,4.]\\nmy_list=np.array(my_list)\\n#my_list=my_list.astype(np.float32)\\nprint(type(my_list))\\nprint(my_list[1])\\nprint(my_list)\\nprint(my_list.dtype)\\n\\nsamples=tfp.mcmc.sample_chain(\\n   kernel=zzz,\\n   num_results=1000,\\n   current_state=my_list\\n)'"
      ]
     },
     "execution_count": 283,
     "metadata": {},
     "output_type": "execute_result"
    }
   ],
   "source": [
    " '''zzz=tfp.mcmc.RandomWalkMetropolis(\n",
    "    target_log_prob_fn=target_log_prob,\n",
    "    new_state_fn=None,\n",
    "    experimental_shard_axis_names=None,\n",
    "    name=None)\n",
    "\n",
    "my_list=[1.,2.,3.,4.]\n",
    "my_list=np.array(my_list)\n",
    "#my_list=my_list.astype(np.float32)\n",
    "print(type(my_list))\n",
    "print(my_list[1])\n",
    "print(my_list)\n",
    "print(my_list.dtype)\n",
    "\n",
    "samples=tfp.mcmc.sample_chain(\n",
    "    kernel=zzz,\n",
    "    num_results=1000,\n",
    "    current_state=my_list\n",
    ")'''"
   ]
  },
  {
   "cell_type": "code",
   "execution_count": 149,
   "id": "2cf6676954775b5a",
   "metadata": {
    "ExecuteTime": {
     "end_time": "2024-02-27T05:48:14.265699200Z",
     "start_time": "2024-02-27T05:48:14.220260300Z"
    },
    "collapsed": false,
    "jupyter": {
     "outputs_hidden": false
    }
   },
   "outputs": [
    {
     "ename": "NameError",
     "evalue": "name 'fprint' is not defined",
     "output_type": "error",
     "traceback": [
      "\u001b[1;31m---------------------------------------------------------------------------\u001b[0m",
      "\u001b[1;31mNameError\u001b[0m                                 Traceback (most recent call last)",
      "Cell \u001b[1;32mIn[149], line 1\u001b[0m\n\u001b[1;32m----> 1\u001b[0m \u001b[43mfprint\u001b[49m(inner_kernal)\n\u001b[0;32m      2\u001b[0m \u001b[38;5;28mprint\u001b[39m(target_log_prob)\n",
      "\u001b[1;31mNameError\u001b[0m: name 'fprint' is not defined"
     ]
    }
   ],
   "source": [
    " fprint(inner_kernal)\n",
    "print(target_log_prob)"
   ]
  },
  {
   "cell_type": "code",
   "execution_count": 150,
   "id": "164f80de997d86b1",
   "metadata": {
    "ExecuteTime": {
     "end_time": "2024-02-27T05:48:15.685042500Z",
     "start_time": "2024-02-27T05:48:15.635836700Z"
    },
    "collapsed": false,
    "jupyter": {
     "outputs_hidden": false
    }
   },
   "outputs": [
    {
     "name": "stdout",
     "output_type": "stream",
     "text": [
      "tf.Tensor(\n",
      "[1.67 0.79 0.79 0.79 0.63 0.63 1.07 1.24 1.07 0.68 0.79 1.15 0.88 0.87\n",
      " 0.83 0.82 0.82 2.16 0.86 1.15 0.99 0.86 0.87 0.6  0.88 0.49 1.12 0.99\n",
      " 1.34 0.79 1.67 0.71 1.7  0.67 1.61 0.74 0.96 2.53 2.38 0.63 0.82 0.71\n",
      " 0.7  1.42 0.77 0.77 1.79 1.12 0.69 0.63 0.68 1.58 0.87 0.77 0.55 1.48\n",
      " 1.12 1.49 0.69 1.48 0.58 1.04 1.05 1.59 0.96 1.12 0.58 1.4  1.4  0.66\n",
      " 0.56 0.6  0.63 0.69 0.6  0.69 0.78 1.04 1.74 0.44 1.04 1.75 0.52 0.44\n",
      " 0.6  1.07 0.46 1.05 0.93 0.97 1.08 0.69 1.73 0.41 1.04 1.89 0.66 1.89\n",
      " 1.18 0.82 1.83 1.09 0.88 1.84 0.82 0.77 0.67 0.82 0.77 1.59 0.81 1.64\n",
      " 1.03 0.82 0.74 2.03 1.07 0.58 1.07 0.66 0.6  0.46 1.1  0.38 0.66 0.69\n",
      " 0.47 2.16 0.47 0.47 0.71 1.1  0.44 2.16 2.16 2.16 2.16 2.6  2.16 2.16\n",
      " 1.67 2.16 2.16], shape=(143,), dtype=float32)\n",
      "line 2\n",
      "mask_low\n"
     ]
    },
    {
     "data": {
      "text/plain": [
       "<tf.Tensor: shape=(4,), dtype=float32, numpy=array([-1.9459102, -1.9459102, -1.9459102, -1.9459102], dtype=float32)>"
      ]
     },
     "execution_count": 150,
     "metadata": {},
     "output_type": "execute_result"
    }
   ],
   "source": [
    "target_log_prob([1,1.1,.2,1.3])"
   ]
  },
  {
   "cell_type": "code",
   "execution_count": 118,
   "id": "3162a4e5c8f602ae",
   "metadata": {
    "ExecuteTime": {
     "end_time": "2024-02-27T05:45:44.061038700Z",
     "start_time": "2024-02-27T05:45:43.923005800Z"
    },
    "collapsed": false,
    "jupyter": {
     "outputs_hidden": false
    }
   },
   "outputs": [
    {
     "name": "stdout",
     "output_type": "stream",
     "text": [
      "tf.Tensor(\n",
      "[1.67 0.79 0.79 0.79 0.63 0.63 1.07 1.24 1.07 0.68 0.79 1.15 0.88 0.87\n",
      " 0.83 0.82 0.82 2.16 0.86 1.15 0.99 0.86 0.87 0.6  0.88 0.49 1.12 0.99\n",
      " 1.34 0.79 1.67 0.71 1.7  0.67 1.61 0.74 0.96 2.53 2.38 0.63 0.82 0.71\n",
      " 0.7  1.42 0.77 0.77 1.79 1.12 0.69 0.63 0.68 1.58 0.87 0.77 0.55 1.48\n",
      " 1.12 1.49 0.69 1.48 0.58 1.04 1.05 1.59 0.96 1.12 0.58 1.4  1.4  0.66\n",
      " 0.56 0.6  0.63 0.69 0.6  0.69 0.78 1.04 1.74 0.44 1.04 1.75 0.52 0.44\n",
      " 0.6  1.07 0.46 1.05 0.93 0.97 1.08 0.69 1.73 0.41 1.04 1.89 0.66 1.89\n",
      " 1.18 0.82 1.83 1.09 0.88 1.84 0.82 0.77 0.67 0.82 0.77 1.59 0.81 1.64\n",
      " 1.03 0.82 0.74 2.03 1.07 0.58 1.07 0.66 0.6  0.46 1.1  0.38 0.66 0.69\n",
      " 0.47 2.16 0.47 0.47 0.71 1.1  0.44 2.16 2.16 2.16 2.16 2.6  2.16 2.16\n",
      " 1.67 2.16 2.16], shape=(143,), dtype=float32)\n"
     ]
    },
    {
     "ename": "ValueError",
     "evalue": "Exception encountered when calling layer 'broken_power_law_53' (type BrokenPowerLaw).\n\nTypeError: Scalar tensor has no `len()`\nTraceback (most recent call last):\n\n  File \"C:\\Users\\work\\AppData\\Local\\Programs\\Python\\Python311\\Lib\\site-packages\\tensorflow\\python\\framework\\ops.py\", line 336, in __len__\n    raise TypeError(\"Scalar tensor has no `len()`\")\n\nTypeError: Scalar tensor has no `len()`\n\n\n\nCall arguments received by layer 'broken_power_law_53' (type BrokenPowerLaw):\n  • inputs=tf.Tensor(shape=(143,), dtype=float32)",
     "output_type": "error",
     "traceback": [
      "\u001b[1;31m---------------------------------------------------------------------------\u001b[0m",
      "\u001b[1;31mValueError\u001b[0m                                Traceback (most recent call last)",
      "Cell \u001b[1;32mIn[118], line 3\u001b[0m\n\u001b[0;32m      1\u001b[0m initial_state\u001b[38;5;241m=\u001b[39mtf\u001b[38;5;241m.\u001b[39mconstant([\u001b[38;5;241m1\u001b[39m,\u001b[38;5;241m1.1\u001b[39m,\u001b[38;5;241m.2\u001b[39m,\u001b[38;5;241m1.3\u001b[39m],dtype\u001b[38;5;241m=\u001b[39mtf\u001b[38;5;241m.\u001b[39mfloat32)\n\u001b[0;32m      2\u001b[0m num_steps\u001b[38;5;241m=\u001b[39m\u001b[38;5;241m1000\u001b[39m\n\u001b[1;32m----> 3\u001b[0m samples\u001b[38;5;241m=\u001b[39m\u001b[43mtfp\u001b[49m\u001b[38;5;241;43m.\u001b[39;49m\u001b[43mmcmc\u001b[49m\u001b[38;5;241;43m.\u001b[39;49m\u001b[43msample_chain\u001b[49m\u001b[43m(\u001b[49m\n\u001b[0;32m      4\u001b[0m \u001b[43m    \u001b[49m\u001b[43mkernel\u001b[49m\u001b[38;5;241;43m=\u001b[39;49m\u001b[43mkernel\u001b[49m\u001b[43m,\u001b[49m\n\u001b[0;32m      5\u001b[0m \u001b[43m    \u001b[49m\u001b[43mnum_results\u001b[49m\u001b[38;5;241;43m=\u001b[39;49m\u001b[43mnum_steps\u001b[49m\u001b[43m,\u001b[49m\n\u001b[0;32m      6\u001b[0m \u001b[43m    \u001b[49m\u001b[43mcurrent_state\u001b[49m\u001b[38;5;241;43m=\u001b[39;49m\u001b[43minitial_state\u001b[49m\n\u001b[0;32m      7\u001b[0m \u001b[43m)\u001b[49m\n",
      "File \u001b[1;32m~\\AppData\\Local\\Programs\\Python\\Python311\\Lib\\site-packages\\tensorflow_probability\\python\\mcmc\\sample.py:330\u001b[0m, in \u001b[0;36msample_chain\u001b[1;34m(num_results, current_state, previous_kernel_results, kernel, num_burnin_steps, num_steps_between_results, trace_fn, return_final_kernel_results, parallel_iterations, seed, name)\u001b[0m\n\u001b[0;32m    326\u001b[0m current_state \u001b[38;5;241m=\u001b[39m tf\u001b[38;5;241m.\u001b[39mnest\u001b[38;5;241m.\u001b[39mmap_structure(\n\u001b[0;32m    327\u001b[0m     \u001b[38;5;28;01mlambda\u001b[39;00m x: tf\u001b[38;5;241m.\u001b[39mconvert_to_tensor(x, name\u001b[38;5;241m=\u001b[39m\u001b[38;5;124m'\u001b[39m\u001b[38;5;124mcurrent_state\u001b[39m\u001b[38;5;124m'\u001b[39m),\n\u001b[0;32m    328\u001b[0m     current_state)\n\u001b[0;32m    329\u001b[0m \u001b[38;5;28;01mif\u001b[39;00m previous_kernel_results \u001b[38;5;129;01mis\u001b[39;00m \u001b[38;5;28;01mNone\u001b[39;00m:\n\u001b[1;32m--> 330\u001b[0m   previous_kernel_results \u001b[38;5;241m=\u001b[39m \u001b[43mkernel\u001b[49m\u001b[38;5;241;43m.\u001b[39;49m\u001b[43mbootstrap_results\u001b[49m\u001b[43m(\u001b[49m\u001b[43mcurrent_state\u001b[49m\u001b[43m)\u001b[49m\n\u001b[0;32m    332\u001b[0m \u001b[38;5;28;01mif\u001b[39;00m trace_fn \u001b[38;5;129;01mis\u001b[39;00m \u001b[38;5;28;01mNone\u001b[39;00m:\n\u001b[0;32m    333\u001b[0m   \u001b[38;5;66;03m# It simplifies the logic to use a dummy function here.\u001b[39;00m\n\u001b[0;32m    334\u001b[0m   trace_fn \u001b[38;5;241m=\u001b[39m \u001b[38;5;28;01mlambda\u001b[39;00m \u001b[38;5;241m*\u001b[39margs: ()\n",
      "File \u001b[1;32m~\\AppData\\Local\\Programs\\Python\\Python311\\Lib\\site-packages\\tensorflow_probability\\python\\mcmc\\metropolis_hastings.py:273\u001b[0m, in \u001b[0;36mMetropolisHastings.bootstrap_results\u001b[1;34m(self, init_state)\u001b[0m\n\u001b[0;32m    257\u001b[0m \u001b[38;5;250m\u001b[39m\u001b[38;5;124;03m\"\"\"Returns an object with the same type as returned by `one_step`.\u001b[39;00m\n\u001b[0;32m    258\u001b[0m \n\u001b[0;32m    259\u001b[0m \u001b[38;5;124;03mArgs:\u001b[39;00m\n\u001b[1;32m   (...)\u001b[0m\n\u001b[0;32m    269\u001b[0m \u001b[38;5;124;03m    \"target_log_prob\".\u001b[39;00m\n\u001b[0;32m    270\u001b[0m \u001b[38;5;124;03m\"\"\"\u001b[39;00m\n\u001b[0;32m    271\u001b[0m \u001b[38;5;28;01mwith\u001b[39;00m tf\u001b[38;5;241m.\u001b[39mname_scope(mcmc_util\u001b[38;5;241m.\u001b[39mmake_name(\n\u001b[0;32m    272\u001b[0m     \u001b[38;5;28mself\u001b[39m\u001b[38;5;241m.\u001b[39mname, \u001b[38;5;124m'\u001b[39m\u001b[38;5;124mmh\u001b[39m\u001b[38;5;124m'\u001b[39m, \u001b[38;5;124m'\u001b[39m\u001b[38;5;124mbootstrap_results\u001b[39m\u001b[38;5;124m'\u001b[39m)):\n\u001b[1;32m--> 273\u001b[0m   pkr \u001b[38;5;241m=\u001b[39m \u001b[38;5;28;43mself\u001b[39;49m\u001b[38;5;241;43m.\u001b[39;49m\u001b[43minner_kernel\u001b[49m\u001b[38;5;241;43m.\u001b[39;49m\u001b[43mbootstrap_results\u001b[49m\u001b[43m(\u001b[49m\u001b[43minit_state\u001b[49m\u001b[43m)\u001b[49m\n\u001b[0;32m    274\u001b[0m   \u001b[38;5;28;01mif\u001b[39;00m \u001b[38;5;129;01mnot\u001b[39;00m has_target_log_prob(pkr):\n\u001b[0;32m    275\u001b[0m     \u001b[38;5;28;01mraise\u001b[39;00m \u001b[38;5;167;01mValueError\u001b[39;00m(\n\u001b[0;32m    276\u001b[0m         \u001b[38;5;124m'\u001b[39m\u001b[38;5;124m\"\u001b[39m\u001b[38;5;124mtarget_log_prob\u001b[39m\u001b[38;5;124m\"\u001b[39m\u001b[38;5;124m must be a member of `inner_kernel` results.\u001b[39m\u001b[38;5;124m'\u001b[39m)\n",
      "File \u001b[1;32m~\\AppData\\Local\\Programs\\Python\\Python311\\Lib\\site-packages\\tensorflow_probability\\python\\mcmc\\random_walk_metropolis.py:432\u001b[0m, in \u001b[0;36mRandomWalkMetropolis.bootstrap_results\u001b[1;34m(self, init_state)\u001b[0m\n\u001b[0;32m    430\u001b[0m \u001b[38;5;28;01mdef\u001b[39;00m \u001b[38;5;21mbootstrap_results\u001b[39m(\u001b[38;5;28mself\u001b[39m, init_state):\n\u001b[0;32m    431\u001b[0m \u001b[38;5;250m  \u001b[39m\u001b[38;5;124;03m\"\"\"Creates initial `previous_kernel_results` using a supplied `state`.\"\"\"\u001b[39;00m\n\u001b[1;32m--> 432\u001b[0m   \u001b[38;5;28;01mreturn\u001b[39;00m \u001b[38;5;28;43mself\u001b[39;49m\u001b[38;5;241;43m.\u001b[39;49m\u001b[43m_impl\u001b[49m\u001b[38;5;241;43m.\u001b[39;49m\u001b[43mbootstrap_results\u001b[49m\u001b[43m(\u001b[49m\u001b[43minit_state\u001b[49m\u001b[43m)\u001b[49m\n",
      "File \u001b[1;32m~\\AppData\\Local\\Programs\\Python\\Python311\\Lib\\site-packages\\tensorflow_probability\\python\\mcmc\\metropolis_hastings.py:273\u001b[0m, in \u001b[0;36mMetropolisHastings.bootstrap_results\u001b[1;34m(self, init_state)\u001b[0m\n\u001b[0;32m    257\u001b[0m \u001b[38;5;250m\u001b[39m\u001b[38;5;124;03m\"\"\"Returns an object with the same type as returned by `one_step`.\u001b[39;00m\n\u001b[0;32m    258\u001b[0m \n\u001b[0;32m    259\u001b[0m \u001b[38;5;124;03mArgs:\u001b[39;00m\n\u001b[1;32m   (...)\u001b[0m\n\u001b[0;32m    269\u001b[0m \u001b[38;5;124;03m    \"target_log_prob\".\u001b[39;00m\n\u001b[0;32m    270\u001b[0m \u001b[38;5;124;03m\"\"\"\u001b[39;00m\n\u001b[0;32m    271\u001b[0m \u001b[38;5;28;01mwith\u001b[39;00m tf\u001b[38;5;241m.\u001b[39mname_scope(mcmc_util\u001b[38;5;241m.\u001b[39mmake_name(\n\u001b[0;32m    272\u001b[0m     \u001b[38;5;28mself\u001b[39m\u001b[38;5;241m.\u001b[39mname, \u001b[38;5;124m'\u001b[39m\u001b[38;5;124mmh\u001b[39m\u001b[38;5;124m'\u001b[39m, \u001b[38;5;124m'\u001b[39m\u001b[38;5;124mbootstrap_results\u001b[39m\u001b[38;5;124m'\u001b[39m)):\n\u001b[1;32m--> 273\u001b[0m   pkr \u001b[38;5;241m=\u001b[39m \u001b[38;5;28;43mself\u001b[39;49m\u001b[38;5;241;43m.\u001b[39;49m\u001b[43minner_kernel\u001b[49m\u001b[38;5;241;43m.\u001b[39;49m\u001b[43mbootstrap_results\u001b[49m\u001b[43m(\u001b[49m\u001b[43minit_state\u001b[49m\u001b[43m)\u001b[49m\n\u001b[0;32m    274\u001b[0m   \u001b[38;5;28;01mif\u001b[39;00m \u001b[38;5;129;01mnot\u001b[39;00m has_target_log_prob(pkr):\n\u001b[0;32m    275\u001b[0m     \u001b[38;5;28;01mraise\u001b[39;00m \u001b[38;5;167;01mValueError\u001b[39;00m(\n\u001b[0;32m    276\u001b[0m         \u001b[38;5;124m'\u001b[39m\u001b[38;5;124m\"\u001b[39m\u001b[38;5;124mtarget_log_prob\u001b[39m\u001b[38;5;124m\"\u001b[39m\u001b[38;5;124m must be a member of `inner_kernel` results.\u001b[39m\u001b[38;5;124m'\u001b[39m)\n",
      "File \u001b[1;32m~\\AppData\\Local\\Programs\\Python\\Python311\\Lib\\site-packages\\tensorflow_probability\\python\\mcmc\\random_walk_metropolis.py:541\u001b[0m, in \u001b[0;36mUncalibratedRandomWalk.bootstrap_results\u001b[1;34m(self, init_state)\u001b[0m\n\u001b[0;32m    539\u001b[0m   init_state \u001b[38;5;241m=\u001b[39m [init_state]\n\u001b[0;32m    540\u001b[0m init_state \u001b[38;5;241m=\u001b[39m [tf\u001b[38;5;241m.\u001b[39mconvert_to_tensor(x) \u001b[38;5;28;01mfor\u001b[39;00m x \u001b[38;5;129;01min\u001b[39;00m init_state]\n\u001b[1;32m--> 541\u001b[0m init_target_log_prob \u001b[38;5;241m=\u001b[39m \u001b[38;5;28;43mself\u001b[39;49m\u001b[38;5;241;43m.\u001b[39;49m\u001b[43mtarget_log_prob_fn\u001b[49m\u001b[43m(\u001b[49m\u001b[38;5;241;43m*\u001b[39;49m\u001b[43minit_state\u001b[49m\u001b[43m)\u001b[49m  \u001b[38;5;66;03m# pylint:disable=not-callable\u001b[39;00m\n\u001b[0;32m    542\u001b[0m \u001b[38;5;28;01mreturn\u001b[39;00m UncalibratedRandomWalkResults(\n\u001b[0;32m    543\u001b[0m     log_acceptance_correction\u001b[38;5;241m=\u001b[39mtf\u001b[38;5;241m.\u001b[39mzeros_like(init_target_log_prob),\n\u001b[0;32m    544\u001b[0m     target_log_prob\u001b[38;5;241m=\u001b[39minit_target_log_prob,\n\u001b[0;32m    545\u001b[0m     \u001b[38;5;66;03m# Allow room for one_step's seed.\u001b[39;00m\n\u001b[0;32m    546\u001b[0m     seed\u001b[38;5;241m=\u001b[39msamplers\u001b[38;5;241m.\u001b[39mzeros_seed())\n",
      "Cell \u001b[1;32mIn[112], line 2\u001b[0m, in \u001b[0;36mtarget_log_prob\u001b[1;34m(params)\u001b[0m\n\u001b[0;32m      1\u001b[0m \u001b[38;5;28;01mdef\u001b[39;00m \u001b[38;5;21mtarget_log_prob\u001b[39m(params):\n\u001b[1;32m----> 2\u001b[0m     a\u001b[38;5;241m=\u001b[39m \u001b[43mlikelihood\u001b[49m\u001b[43m(\u001b[49m\u001b[43m[\u001b[49m\u001b[43mX\u001b[49m\u001b[43m,\u001b[49m\u001b[43mY\u001b[49m\u001b[43m]\u001b[49m\u001b[43m,\u001b[49m\u001b[43mparams\u001b[49m\u001b[43m)\u001b[49m\n\u001b[0;32m      3\u001b[0m     b\u001b[38;5;241m=\u001b[39mprior_log_prob(params)\n\u001b[0;32m      4\u001b[0m     c\u001b[38;5;241m=\u001b[39ma\u001b[38;5;241m+\u001b[39mb\n",
      "Cell \u001b[1;32mIn[105], line 5\u001b[0m, in \u001b[0;36mlikelihood\u001b[1;34m(data, params)\u001b[0m\n\u001b[0;32m      1\u001b[0m \u001b[38;5;28;01mdef\u001b[39;00m \u001b[38;5;21mlikelihood\u001b[39m(data,params):\n\u001b[0;32m      2\u001b[0m     \u001b[38;5;66;03m#params=tf.constant(params,dtype=tf.float32)\u001b[39;00m\n\u001b[0;32m      4\u001b[0m     ind_par\u001b[38;5;241m=\u001b[39mBrokenPowerLaw(params[\u001b[38;5;241m0\u001b[39m],params[\u001b[38;5;241m1\u001b[39m],params[\u001b[38;5;241m2\u001b[39m],params[\u001b[38;5;241m3\u001b[39m])\n\u001b[1;32m----> 5\u001b[0m     exp_val\u001b[38;5;241m=\u001b[39m\u001b[43mind_par\u001b[49m\u001b[43m(\u001b[49m\u001b[43mdata\u001b[49m\u001b[43m[\u001b[49m\u001b[38;5;241;43m0\u001b[39;49m\u001b[43m]\u001b[49m\u001b[43m)\u001b[49m\n\u001b[0;32m      6\u001b[0m     \u001b[38;5;66;03m#print('e',exp_val)\u001b[39;00m\n\u001b[0;32m      7\u001b[0m     \u001b[38;5;66;03m#exp_val=tf.constant([exp_val],dtype=tf.float32)\u001b[39;00m\n\u001b[0;32m      9\u001b[0m     act_val\u001b[38;5;241m=\u001b[39mdata[\u001b[38;5;241m1\u001b[39m]\n",
      "File \u001b[1;32m~\\AppData\\Local\\Programs\\Python\\Python311\\Lib\\site-packages\\keras\\src\\utils\\traceback_utils.py:70\u001b[0m, in \u001b[0;36mfilter_traceback.<locals>.error_handler\u001b[1;34m(*args, **kwargs)\u001b[0m\n\u001b[0;32m     67\u001b[0m     filtered_tb \u001b[38;5;241m=\u001b[39m _process_traceback_frames(e\u001b[38;5;241m.\u001b[39m__traceback__)\n\u001b[0;32m     68\u001b[0m     \u001b[38;5;66;03m# To get the full stack trace, call:\u001b[39;00m\n\u001b[0;32m     69\u001b[0m     \u001b[38;5;66;03m# `tf.debugging.disable_traceback_filtering()`\u001b[39;00m\n\u001b[1;32m---> 70\u001b[0m     \u001b[38;5;28;01mraise\u001b[39;00m e\u001b[38;5;241m.\u001b[39mwith_traceback(filtered_tb) \u001b[38;5;28;01mfrom\u001b[39;00m \u001b[38;5;28;01mNone\u001b[39;00m\n\u001b[0;32m     71\u001b[0m \u001b[38;5;28;01mfinally\u001b[39;00m:\n\u001b[0;32m     72\u001b[0m     \u001b[38;5;28;01mdel\u001b[39;00m filtered_tb\n",
      "Cell \u001b[1;32mIn[103], line 15\u001b[0m, in \u001b[0;36mBrokenPowerLaw.call\u001b[1;34m(self, inputs)\u001b[0m\n\u001b[0;32m     13\u001b[0m \u001b[38;5;28mself\u001b[39m\u001b[38;5;241m.\u001b[39minputs\u001b[38;5;241m=\u001b[39mtf\u001b[38;5;241m.\u001b[39mconstant(inputs,dtype\u001b[38;5;241m=\u001b[39mtf\u001b[38;5;241m.\u001b[39mfloat32)\n\u001b[0;32m     14\u001b[0m \u001b[38;5;28mprint\u001b[39m(\u001b[38;5;28mself\u001b[39m\u001b[38;5;241m.\u001b[39minputs)\n\u001b[1;32m---> 15\u001b[0m \u001b[38;5;28mself\u001b[39m\u001b[38;5;241m.\u001b[39malpha1\u001b[38;5;241m=\u001b[39m\u001b[43mtf\u001b[49m\u001b[38;5;241;43m.\u001b[39;49m\u001b[43mconstant\u001b[49m\u001b[43m(\u001b[49m\u001b[43m[\u001b[49m\u001b[38;5;28;43mself\u001b[39;49m\u001b[38;5;241;43m.\u001b[39;49m\u001b[43malpha1\u001b[49m\u001b[43m]\u001b[49m\u001b[43m,\u001b[49m\u001b[43mdtype\u001b[49m\u001b[38;5;241;43m=\u001b[39;49m\u001b[43mtf\u001b[49m\u001b[38;5;241;43m.\u001b[39;49m\u001b[43mfloat32\u001b[49m\u001b[43m)\u001b[49m\n\u001b[0;32m     16\u001b[0m \u001b[38;5;28mself\u001b[39m\u001b[38;5;241m.\u001b[39mbeta11\u001b[38;5;241m=\u001b[39mtf\u001b[38;5;241m.\u001b[39mconstant([\u001b[38;5;28mself\u001b[39m\u001b[38;5;241m.\u001b[39mbeta11],dtype\u001b[38;5;241m=\u001b[39mtf\u001b[38;5;241m.\u001b[39mfloat32)\n\u001b[0;32m     17\u001b[0m \u001b[38;5;28mself\u001b[39m\u001b[38;5;241m.\u001b[39mbeta21\u001b[38;5;241m=\u001b[39mtf\u001b[38;5;241m.\u001b[39mconstant([\u001b[38;5;28mself\u001b[39m\u001b[38;5;241m.\u001b[39mbeta21],dtype\u001b[38;5;241m=\u001b[39mtf\u001b[38;5;241m.\u001b[39mfloat32)\n",
      "\u001b[1;31mValueError\u001b[0m: Exception encountered when calling layer 'broken_power_law_53' (type BrokenPowerLaw).\n\nTypeError: Scalar tensor has no `len()`\nTraceback (most recent call last):\n\n  File \"C:\\Users\\work\\AppData\\Local\\Programs\\Python\\Python311\\Lib\\site-packages\\tensorflow\\python\\framework\\ops.py\", line 336, in __len__\n    raise TypeError(\"Scalar tensor has no `len()`\")\n\nTypeError: Scalar tensor has no `len()`\n\n\n\nCall arguments received by layer 'broken_power_law_53' (type BrokenPowerLaw):\n  • inputs=tf.Tensor(shape=(143,), dtype=float32)"
     ]
    }
   ],
   "source": [
    "\n",
    "initial_state=tf.constant([1,1.1,.2,1.3],dtype=tf.float32)\n",
    "num_steps=1000\n",
    "samples=tfp.mcmc.sample_chain(\n",
    "    kernel=kernel,\n",
    "    num_results=num_steps,\n",
    "    current_state=initial_state\n",
    ")"
   ]
  },
  {
   "cell_type": "code",
   "execution_count": 119,
   "id": "f2e82ff19cbdd3b0",
   "metadata": {
    "ExecuteTime": {
     "end_time": "2024-02-27T05:45:45.186347500Z",
     "start_time": "2024-02-27T05:45:45.148849800Z"
    },
    "collapsed": false,
    "jupyter": {
     "outputs_hidden": false
    }
   },
   "outputs": [],
   "source": [
    "def prior_log_prob( params):\n",
    "    lower_bound=-2\n",
    "    upper_bound=5\n",
    "    return log_likelihood()\n",
    "        "
   ]
  },
  {
   "cell_type": "code",
   "execution_count": 120,
   "id": "8f309ac6b80dfcde",
   "metadata": {
    "ExecuteTime": {
     "end_time": "2024-02-27T05:45:46.379088100Z",
     "start_time": "2024-02-27T05:45:46.339818100Z"
    },
    "collapsed": false,
    "jupyter": {
     "outputs_hidden": false
    }
   },
   "outputs": [
    {
     "ename": "NameError",
     "evalue": "name 'alpha' is not defined",
     "output_type": "error",
     "traceback": [
      "\u001b[1;31m---------------------------------------------------------------------------\u001b[0m",
      "\u001b[1;31mNameError\u001b[0m                                 Traceback (most recent call last)",
      "Cell \u001b[1;32mIn[120], line 1\u001b[0m\n\u001b[1;32m----> 1\u001b[0m prior_log_prob(\u001b[43malpha\u001b[49m,beta1,beta2,Av,sigma)\n",
      "\u001b[1;31mNameError\u001b[0m: name 'alpha' is not defined"
     ]
    }
   ],
   "source": [
    "prior_log_prob(alpha,beta1,beta2,Av,sigma)"
   ]
  },
  {
   "cell_type": "markdown",
   "id": "53db567f96ce359c",
   "metadata": {
    "collapsed": false,
    "jupyter": {
     "outputs_hidden": false
    }
   },
   "source": []
  },
  {
   "cell_type": "code",
   "execution_count": 121,
   "id": "5eb8bc6790d69504",
   "metadata": {
    "ExecuteTime": {
     "end_time": "2024-02-27T05:45:49.436065500Z",
     "start_time": "2024-02-27T05:45:49.382896800Z"
    },
    "collapsed": false,
    "jupyter": {
     "outputs_hidden": false
    }
   },
   "outputs": [
    {
     "ename": "NameError",
     "evalue": "name 'alpha' is not defined",
     "output_type": "error",
     "traceback": [
      "\u001b[1;31m---------------------------------------------------------------------------\u001b[0m",
      "\u001b[1;31mNameError\u001b[0m                                 Traceback (most recent call last)",
      "Cell \u001b[1;32mIn[121], line 1\u001b[0m\n\u001b[1;32m----> 1\u001b[0m prior_log_prob([\u001b[43malpha\u001b[49m,beta1,beta1,Av])\n",
      "\u001b[1;31mNameError\u001b[0m: name 'alpha' is not defined"
     ]
    }
   ],
   "source": [
    "prior_log_prob([alpha,beta1,beta1,Av])"
   ]
  },
  {
   "cell_type": "code",
   "execution_count": 122,
   "id": "ae094debb75bb1cc",
   "metadata": {
    "ExecuteTime": {
     "end_time": "2024-02-27T05:45:50.220550800Z",
     "start_time": "2024-02-27T05:45:50.165371700Z"
    },
    "collapsed": false,
    "jupyter": {
     "outputs_hidden": false
    }
   },
   "outputs": [
    {
     "name": "stdout",
     "output_type": "stream",
     "text": [
      "tf.Tensor(\n",
      "[1.67 0.79 0.79 0.79 0.63 0.63 1.07 1.24 1.07 0.68 0.79 1.15 0.88 0.87\n",
      " 0.83 0.82 0.82 2.16 0.86 1.15 0.99 0.86 0.87 0.6  0.88 0.49 1.12 0.99\n",
      " 1.34 0.79 1.67 0.71 1.7  0.67 1.61 0.74 0.96 2.53 2.38 0.63 0.82 0.71\n",
      " 0.7  1.42 0.77 0.77 1.79 1.12 0.69 0.63 0.68 1.58 0.87 0.77 0.55 1.48\n",
      " 1.12 1.49 0.69 1.48 0.58 1.04 1.05 1.59 0.96 1.12 0.58 1.4  1.4  0.66\n",
      " 0.56 0.6  0.63 0.69 0.6  0.69 0.78 1.04 1.74 0.44 1.04 1.75 0.52 0.44\n",
      " 0.6  1.07 0.46 1.05 0.93 0.97 1.08 0.69 1.73 0.41 1.04 1.89 0.66 1.89\n",
      " 1.18 0.82 1.83 1.09 0.88 1.84 0.82 0.77 0.67 0.82 0.77 1.59 0.81 1.64\n",
      " 1.03 0.82 0.74 2.03 1.07 0.58 1.07 0.66 0.6  0.46 1.1  0.38 0.66 0.69\n",
      " 0.47 2.16 0.47 0.47 0.71 1.1  0.44 2.16 2.16 2.16 2.16 2.6  2.16 2.16\n",
      " 1.67 2.16 2.16], shape=(143,), dtype=float32)\n",
      "line one\n",
      "line 2\n",
      "mask_low\n",
      "x= tf.Tensor(\n",
      "[1.4946107 2.5949373 2.5949373 2.5949373 2.5890715 2.5890715 2.33271\n",
      " 2.012903  2.33271   2.5910494 2.5949373 2.170435  2.5977385 2.5974417\n",
      " 2.5962195 2.5959048 2.5959048 1.1555554 2.5971415 2.170435  2.5212119\n",
      " 2.5971415 2.5974417 2.5878086 2.5977385 2.582573  2.2285712 2.5212119\n",
      " 1.8626865 2.5949373 1.4946107 2.5921683 1.4682351 2.5906656 1.5503104\n",
      " 2.5932415 2.6       0.9865612 1.0487394 2.5890715 2.5959048 2.5921683\n",
      " 2.5918007 1.7577466 2.5942721 2.5942721 1.3944132 2.2285712 2.5914278\n",
      " 2.5890715 2.5910494 1.5797467 2.5974417 2.5942721 2.5855577 1.6864864\n",
      " 2.2285712 1.6751677 2.5914278 1.6864864 2.5869312 2.3999999 2.3771427\n",
      " 1.5698111 2.6       2.2285712 2.5869312 1.782857  1.782857  2.5902762\n",
      " 2.5860238 2.5878086 2.5890715 2.5914278 2.5878086 2.5914278 2.5946069\n",
      " 2.3999999 1.4344827 2.5797946 2.3999999 1.4262856 2.5841079 2.5797946\n",
      " 2.5878086 2.33271   2.5809417 2.3771427 2.5991745 2.5731957 2.3111107\n",
      " 2.5914278 1.4427745 2.5779736 2.3999999 1.320635  2.5902762 1.320635\n",
      " 2.1152542 2.5959048 1.3639343 2.2899082 2.5977385 1.3565217 2.5959048\n",
      " 2.5942721 2.5906656 2.5959048 2.5942721 1.5698111 2.5955863 1.5219511\n",
      " 2.423301  2.5959048 2.5932415 1.2295567 2.33271   2.5869312 2.33271\n",
      " 2.5902762 2.5878086 2.5809417 2.2690907 2.5760152 2.5902762 2.5914278\n",
      " 2.581497  1.1555554 2.581497  2.581497  2.5921683 2.2690907 2.5797946\n",
      " 1.1555554 1.1555554 1.1555554 1.1555554 0.96      1.1555554 1.1555554\n",
      " 1.4946107 1.1555554 1.1555554], shape=(143,), dtype=float32)\n",
      "Y= tf.Tensor(\n",
      "[1.269461   2.721519   3.         3.21519    2.3174603  2.6190476\n",
      " 2.6074767  1.798387   2.672897   2.764706   3.5316455  2.9478261\n",
      " 3.5454545  3.4482758  3.3975904  2.7439024  2.878049   1.4027778\n",
      " 4.0348835  2.5217392  2.89899    2.9767442  3.2643678  2.9333334\n",
      " 3.534091   4.122449   2.830357   2.5959597  2.4179103  2.443038\n",
      " 2.4550898  3.1549296  0.9941176  1.7313433  1.9937888  3.2432432\n",
      " 2.8645833  1.1264822  0.8319328  2.6825397  2.8292682  2.971831\n",
      " 3.3        1.7535211  2.909091   1.987013   2.1731844  2.375\n",
      " 1.8985507  2.8412697  3.1617646  1.9620253  4.9770117  2.3116884\n",
      " 2.9272728  2.6148648  2.8482144  1.818792   2.5072465  2.1486487\n",
      " 2.3275862  2.8173077  2.6666667  2.36478    3.1145833  2.580357\n",
      " 3.137931   2.357143   2.2285714  2.6060605  4.035714   4.6\n",
      " 2.6984127  2.942029   2.2666667  2.0289855  2.102564   2.9038463\n",
      " 0.86206895 3.3636363  1.3076923  1.3485714  3.4230769  3.3636363\n",
      " 3.3666666  1.7943925  4.         2.3142858  2.5268817  2.0824742\n",
      " 1.8888888  2.7391305  1.4450867  3.8536584  2.5096154  1.3068783\n",
      " 2.2272727  2.1587303  2.2372882  2.609756   1.2349727  2.5045872\n",
      " 2.034091   1.423913   3.9512196  2.8181818  2.641791   3.402439\n",
      " 2.961039   2.2704403  3.148148   1.1646341  2.5825243  2.2682927\n",
      " 1.2297298  1.3546798  0.85046726 1.7241379  1.8224299  1.5757576\n",
      " 2.85       3.9565217  2.2181818  2.2105262  1.9848485  1.884058\n",
      " 3.1914895  0.9490741  2.212766   2.3617022  3.6478872  1.9363636\n",
      " 1.7954545  0.8333333  1.0648148  1.2222222  1.2453704  1.2153846\n",
      " 0.9953704  1.0138888  1.7844311  1.0694444  1.212963  ], shape=(143,), dtype=float32)\n",
      "x-y tf.Tensor(\n",
      "[5.06923571e-02 1.60229187e-02 1.64075777e-01 3.84713292e-01\n",
      " 7.37726539e-02 8.98568367e-04 7.54967332e-02 4.60170805e-02\n",
      " 1.15727246e-01 3.01565677e-02 8.77422273e-01 6.04337096e-01\n",
      " 8.98165584e-01 7.23918736e-01 6.42195225e-01 2.19032951e-02\n",
      " 7.96052739e-02 6.11189269e-02 2.06710196e+00 1.23414703e-01\n",
      " 1.42716259e-01 1.44098192e-01 4.44790483e-01 1.19387381e-01\n",
      " 8.76756012e-01 2.37121797e+00 3.62146258e-01 5.58723370e-03\n",
      " 3.08273494e-01 2.30734088e-02 9.22520161e-01 3.16700280e-01\n",
      " 2.24787414e-01 7.38434851e-01 1.96673155e-01 4.22502279e-01\n",
      " 7.00043514e-02 1.95779055e-02 4.70051244e-02 8.73630214e-03\n",
      " 5.44584729e-02 1.44143805e-01 5.01546204e-01 1.78547871e-05\n",
      " 9.91109163e-02 3.68763685e-01 6.06484532e-01 2.14414001e-02\n",
      " 4.80078608e-01 6.36039451e-02 3.25715840e-01 1.46136895e-01\n",
      " 5.66235352e+00 7.98535571e-02 1.16769210e-01 8.61886561e-01\n",
      " 3.83957714e-01 2.06279419e-02 7.08649261e-03 2.13594064e-01\n",
      " 6.72598556e-02 1.74145848e-01 8.38241950e-02 6.31975472e-01\n",
      " 2.64796019e-01 1.23753317e-01 3.03600878e-01 3.29804391e-01\n",
      " 1.98661387e-01 2.49142991e-04 2.10160208e+00 4.04891396e+00\n",
      " 1.19554857e-02 1.22921199e-01 1.03132159e-01 3.16341341e-01\n",
      " 2.42106095e-01 2.53861189e-01 3.27657491e-01 6.14407659e-01\n",
      " 1.19313586e+00 6.03949744e-03 7.03868985e-01 6.14407659e-01\n",
      " 6.06619716e-01 2.89785802e-01 2.01372647e+00 3.95099167e-03\n",
      " 5.22624981e-03 2.40807548e-01 1.78271338e-01 2.18160860e-02\n",
      " 5.34619176e-06 1.62737179e+00 1.20155718e-02 1.89244951e-04\n",
      " 1.31771535e-01 7.02403724e-01 1.48923146e-02 1.91854793e-04\n",
      " 1.66310854e-02 4.60870750e-02 3.17698509e-01 4.54158429e-03\n",
      " 1.83687806e+00 5.01355156e-02 2.61381944e-03 6.50497556e-01\n",
      " 1.34517983e-01 4.90881324e-01 3.05324495e-01 1.27675414e-01\n",
      " 2.53520645e-02 1.07329726e-01 1.85916412e+00 1.56558007e-02\n",
      " 2.19704390e+00 7.44412303e-01 2.60385811e-01 1.02924800e+00\n",
      " 6.87442720e-02 1.89222050e+00 2.59170635e-03 1.33582219e-01\n",
      " 3.66542757e-01 5.00372052e-01 3.72090846e-01 4.26345170e-02\n",
      " 1.35962561e-01 4.83097322e-02 1.11454237e+00 1.10707305e-01\n",
      " 6.15189433e-01 1.03827052e-01 8.23384989e-03 4.44446784e-03\n",
      " 8.06673802e-03 6.52213097e-02 2.56592277e-02 2.00694054e-02\n",
      " 8.39958861e-02 7.41509581e-03 3.29563464e-03], shape=(143,), dtype=float32)\n"
     ]
    }
   ],
   "source": [
    "BrokenPowerLaw1=BrokenPowerLaw(2.6,0.01,-1,0.96)\n",
    "x=BrokenPowerLaw1(X)\n",
    "print('x=',x)\n",
    "print('Y=',Y)\n",
    "print('x-y',tf.square(x-Y))"
   ]
  },
  {
   "cell_type": "code",
   "execution_count": 67,
   "id": "4d234633c613de27",
   "metadata": {
    "ExecuteTime": {
     "end_time": "2024-02-25T20:23:48.229232900Z",
     "start_time": "2024-02-25T20:23:48.208595400Z"
    },
    "collapsed": false,
    "jupyter": {
     "outputs_hidden": false
    }
   },
   "outputs": [
    {
     "data": {
      "text/plain": [
       "<tf.Tensor: shape=(), dtype=float64, numpy=1.2770866427560919e-26>"
      ]
     },
     "execution_count": 67,
     "metadata": {},
     "output_type": "execute_result"
    }
   ],
   "source": [
    "kernel=tfp.mcmc.MetropolisHastings(\n",
    "    inner_kernal=tfp.mcmc.RandomWalkMetropolis(\n",
    "        target_log_prob_fn=lambda \n",
    "    )\n",
    ")\n",
    "    "
   ]
  },
  {
   "cell_type": "code",
   "execution_count": 20,
   "id": "b04a16890f1623e4",
   "metadata": {
    "ExecuteTime": {
     "end_time": "2024-02-25T14:48:57.598302900Z",
     "start_time": "2024-02-25T14:48:57.581792100Z"
    },
    "collapsed": false,
    "jupyter": {
     "outputs_hidden": false
    }
   },
   "outputs": [],
   "source": []
  },
  {
   "cell_type": "code",
   "execution_count": 305,
   "id": "8a81c6a0298c49c2",
   "metadata": {
    "ExecuteTime": {
     "end_time": "2024-02-24T14:41:50.039538700Z",
     "start_time": "2024-02-24T14:41:49.763833300Z"
    },
    "collapsed": false,
    "jupyter": {
     "outputs_hidden": false
    }
   },
   "outputs": [
    {
     "name": "stdout",
     "output_type": "stream",
     "text": [
      "(37.80742927291164, 2.526265764541371, 0.780286194729146)\n",
      "tf.Tensor(\n",
      "[0.14012184 0.49185788 0.42074979 0.34182267 0.48959676 0.50423602\n",
      " 0.50509219 0.32660857 0.49878943 0.48416902 0.22061873 0.43749806\n",
      " 0.21569686 0.25129406 0.270604   0.48804804 0.45772258 0.18027052\n",
      " 0.0815189  0.50789884 0.45193875 0.4283709  0.32260127 0.44191623\n",
      " 0.21974355 0.06624724 0.46989401 0.50583252 0.50290695 0.50495104\n",
      " 0.50574352 0.36502999 0.07717122 0.30031153 0.40051753 0.33087644\n",
      " 0.46130344 0.10408218 0.05192591 0.49756412 0.47015487 0.42994976\n",
      " 0.30861917 0.30900747 0.44905847 0.39810334 0.4573715  0.49820987\n",
      " 0.36539077 0.46723663 0.36242593 0.38907494 0.0056501  0.4885912\n",
      " 0.44373145 0.50455847 0.46550535 0.33459148 0.50775277 0.45055073\n",
      " 0.49129952 0.47296837 0.49954125 0.49687074 0.38020584 0.50665656\n",
      " 0.37146695 0.49581562 0.47141532 0.50518924 0.08136231 0.0182999\n",
      " 0.49538502 0.43927826 0.47989868 0.41279912 0.4368362  0.4505612\n",
      " 0.05602643 0.28373994 0.15100417 0.16320903 0.26084279 0.28373994\n",
      " 0.28256244 0.32504327 0.08830576 0.48904683 0.50790745 0.43051696\n",
      " 0.36170899 0.48889222 0.1942493  0.12140745 0.50778893 0.15076707\n",
      " 0.47110867 0.45339565 0.47344423 0.50493241 0.13075361 0.50770645\n",
      " 0.41454208 0.18718342 0.09849717 0.472766   0.50222729 0.26873976\n",
      " 0.43337787 0.48068386 0.3676049  0.11297818 0.50655445 0.48023825\n",
      " 0.12936698 0.16508231 0.0544177  0.29749035 0.33601191 0.24063758\n",
      " 0.46505518 0.09734919 0.46893081 0.46705477 0.39732896 0.35986189\n",
      " 0.35101087 0.06935147], shape=(128,), dtype=float64)\n",
      "tf.Tensor(45.84697066113731, shape=(), dtype=float64)\n"
     ]
    }
   ],
   "source": [
    "'''class BrokenPowerLaw.Layer(tf.keras.layers.Layer):\n",
    "    def __init__(self,units=1,**kwargs):\n",
    "        super(BrokenPowerLaw,self).__init__(**kwargs):\n",
    "        self.alpha=tf.keras.layers.Dense(units=units,activation=None)\n",
    "        self.beta1=tf.keras.layers.Dense(units=units,activation=None)\n",
    "        self.beta2=tf.keras.layers.Dense(units=units,activation=None)\n",
    "        self.Av=tf.keras.layers.Dense(units=units,Activation=None)\n",
    "        self.sigma=tf.keras.layers.Dense(units=units,Activation=None)\n",
    "        \n",
    "    def call(self,inputs):\n",
    "        x=inputs\n",
    "   '''''     \n",
    "        \n",
    "\n",
    "params=t.fit(Y)\n",
    "print(params)\n",
    "v,mu,sigma_=params[0],params[1],params[2]\n",
    "\n",
    "\n",
    "single_dist = tfp.distributions.StudentT(df=v, loc=mu, scale=sigma_)\n",
    "likelihood=single_dist.prob(Y)\n",
    "\n"
   ]
  },
  {
   "cell_type": "markdown",
   "id": "da0b96cef0ea21f7",
   "metadata": {
    "collapsed": false,
    "jupyter": {
     "outputs_hidden": false
    }
   },
   "source": []
  },
  {
   "cell_type": "code",
   "execution_count": null,
   "id": "ac96aa5e748df2a4",
   "metadata": {
    "collapsed": false,
    "jupyter": {
     "outputs_hidden": false
    }
   },
   "outputs": [],
   "source": []
  },
  {
   "cell_type": "code",
   "execution_count": 95,
   "id": "1ad38f94fdd5120f",
   "metadata": {
    "ExecuteTime": {
     "end_time": "2024-02-23T19:51:15.195050700Z",
     "start_time": "2024-02-23T19:51:15.066545400Z"
    },
    "collapsed": false,
    "jupyter": {
     "outputs_hidden": false
    }
   },
   "outputs": [
    {
     "data": {
      "text/plain": [
       "<matplotlib.collections.PathCollection at 0x1b8f2646f50>"
      ]
     },
     "execution_count": 95,
     "metadata": {},
     "output_type": "execute_result"
    },
    {
     "data": {
      "image/png": "[encoded data removed]",
      "text/plain": [
       "<Figure size 640x480 with 1 Axes>"
      ]
     },
     "metadata": {},
     "output_type": "display_data"
    }
   ],
   "source": [
    "hplt.scatter(X,Y)"
   ]
  },
  {
   "cell_type": "code",
   "execution_count": 30,
   "id": "4c0747fabe22265c",
   "metadata": {
    "ExecuteTime": {
     "end_time": "2024-02-23T17:13:48.520088400Z",
     "start_time": "2024-02-23T17:13:48.440520Z"
    },
    "collapsed": false,
    "jupyter": {
     "outputs_hidden": false
    }
   },
   "outputs": [
    {
     "ename": "NameError",
     "evalue": "name 'math' is not defined",
     "output_type": "error",
     "traceback": [
      "\u001b[1;31m---------------------------------------------------------------------------\u001b[0m",
      "\u001b[1;31mNameError\u001b[0m                                 Traceback (most recent call last)",
      "Cell \u001b[1;32mIn[30], line 2\u001b[0m\n\u001b[0;32m      1\u001b[0m \u001b[38;5;28;01mfor\u001b[39;00m i \u001b[38;5;129;01min\u001b[39;00m X:\n\u001b[1;32m----> 2\u001b[0m     (\u001b[43mmath\u001b[49m\u001b[38;5;241m.\u001b[39mgamma(v\u001b[38;5;241m+\u001b[39m\u001b[38;5;241m1\u001b[39m\u001b[38;5;241m/\u001b[39m\u001b[38;5;241m2\u001b[39m)\u001b[38;5;241m/\u001b[39mmath\u001b[38;5;241m.\u001b[39mgamma(v\u001b[38;5;241m/\u001b[39m\u001b[38;5;241m2\u001b[39m))(sigma_)\n",
      "\u001b[1;31mNameError\u001b[0m: name 'math' is not defined"
     ]
    }
   ],
   "source": [
    "for i in X:\n",
    "    (math.gamma(v+1/2)/math.gamma(v/2))(sigma_/math.pi*v)**(1/2)*(1+(sigma_*(x-i)**2)/v)**(-(v+1)/2)\n",
    "    "
   ]
  },
  {
   "cell_type": "code",
   "execution_count": 40,
   "id": "52ba44940bbe5869",
   "metadata": {
    "ExecuteTime": {
     "end_time": "2024-02-23T18:29:26.477448600Z",
     "start_time": "2024-02-23T18:29:26.422101100Z"
    },
    "collapsed": false,
    "jupyter": {
     "outputs_hidden": false
    }
   },
   "outputs": [
    {
     "ename": "TypeError",
     "evalue": "scatter() missing 1 required positional argument: 'y'",
     "output_type": "error",
     "traceback": [
      "\u001b[1;31m---------------------------------------------------------------------------\u001b[0m",
      "\u001b[1;31mTypeError\u001b[0m                                 Traceback (most recent call last)",
      "Cell \u001b[1;32mIn[40], line 1\u001b[0m\n\u001b[1;32m----> 1\u001b[0m \u001b[43mplt\u001b[49m\u001b[38;5;241;43m.\u001b[39;49m\u001b[43mscatter\u001b[49m\u001b[43m(\u001b[49m\u001b[43mY\u001b[49m\u001b[43m)\u001b[49m\n",
      "\u001b[1;31mTypeError\u001b[0m: scatter() missing 1 required positional argument: 'y'"
     ]
    }
   ],
   "source": []
  },
  {
   "cell_type": "code",
   "execution_count": 204,
   "id": "76995cb23c397ff6",
   "metadata": {
    "ExecuteTime": {
     "end_time": "2024-02-18T12:20:48.258142900Z",
     "start_time": "2024-02-18T12:20:48.245774700Z"
    },
    "collapsed": false,
    "jupyter": {
     "outputs_hidden": false
    }
   },
   "outputs": [
    {
     "data": {
      "text/plain": [
       "0"
      ]
     },
     "execution_count": 204,
     "metadata": {},
     "output_type": "execute_result"
    }
   ],
   "source": [
    "X.isna().sum()"
   ]
  },
  {
   "cell_type": "code",
   "execution_count": 71,
   "id": "69e1b0cf9a08a0ce",
   "metadata": {
    "ExecuteTime": {
     "end_time": "2024-02-17T11:05:55.151860500Z",
     "start_time": "2024-02-17T11:05:55.142601200Z"
    },
    "collapsed": false,
    "jupyter": {
     "outputs_hidden": false
    }
   },
   "outputs": [
    {
     "data": {
      "text/plain": [
       "0      1.67\n",
       "1      0.79\n",
       "2      0.79\n",
       "3      0.79\n",
       "4      0.63\n",
       "       ... \n",
       "146    2.16\n",
       "147    2.16\n",
       "148    1.67\n",
       "149    2.16\n",
       "150    2.16\n",
       "Name: Av (mag), Length: 151, dtype: float64"
      ]
     },
     "execution_count": 71,
     "metadata": {},
     "output_type": "execute_result"
    }
   ],
   "source": [
    "Y"
   ]
  },
  {
   "cell_type": "code",
   "execution_count": null,
   "id": "47ea8d45ce2fd5f7",
   "metadata": {
    "collapsed": false,
    "jupyter": {
     "outputs_hidden": false
    }
   },
   "outputs": [],
   "source": [
    "kernel=tfp.mcmc.MetropolisHastings(    \n",
    "    tfp.mcmc.RandomWalkMetropolis(\n",
    "    target_log_prob_fn=target_log_prob,\n",
    "    new_state_fn=None,\n",
    "    experimental_shard_axis_names=None,\n",
    "    name=None\n",
    "))\n",
    "   \n",
    "   \n",
    "my_list1=[0.5,0.5,0.5,0.5]\n",
    "#my_list=np.array(my_list)\n",
    "my_list1=tf.constant(my_list,dtype=tf.float32)\n",
    "\n",
    "\n",
    "samples_1=tfp.mcmc.sample_chain(\n",
    "    kernel=kernel,\n",
    "    num_results=10,\n",
    "    current_state=my_list1\n",
    "    )  "
   ]
  },
  {
   "cell_type": "code",
   "execution_count": 205,
   "id": "17d891867fc8f2e2",
   "metadata": {
    "ExecuteTime": {
     "end_time": "2024-02-18T12:38:17.219437900Z",
     "start_time": "2024-02-18T12:38:17.201294300Z"
    },
    "collapsed": false,
    "jupyter": {
     "outputs_hidden": false
    }
   },
   "outputs": [],
   "source": [
    "df = tf.constant(2.0)\n",
    "loc = tf.constant(2.0)\n",
    "scale = tf.constant(11.0)\n",
    "dist = tfd.StudentT(df=df, loc=loc, scale=scale)\n"
   ]
  },
  {
   "cell_type": "code",
   "execution_count": 3,
   "id": "b20aa1b7b3617f0",
   "metadata": {
    "ExecuteTime": {
     "end_time": "2024-02-20T22:02:55.614105600Z",
     "start_time": "2024-02-20T22:02:55.510486300Z"
    },
    "collapsed": false,
    "jupyter": {
     "outputs_hidden": false
    }
   },
   "outputs": [
    {
     "ename": "TypeError",
     "evalue": "('Keyword argument not understood:', 'scale')",
     "output_type": "error",
     "traceback": [
      "\u001b[1;31m---------------------------------------------------------------------------\u001b[0m",
      "\u001b[1;31mTypeError\u001b[0m                                 Traceback (most recent call last)",
      "Cell \u001b[1;32mIn[3], line 10\u001b[0m\n\u001b[0;32m      6\u001b[0m y \u001b[38;5;241m=\u001b[39m tf\u001b[38;5;241m.\u001b[39mconstant([\u001b[38;5;241m3.0\u001b[39m, \u001b[38;5;241m7.0\u001b[39m, \u001b[38;5;241m11.0\u001b[39m, \u001b[38;5;241m15.0\u001b[39m])\n\u001b[0;32m      8\u001b[0m \u001b[38;5;66;03m# Define TFP layers\u001b[39;00m\n\u001b[0;32m      9\u001b[0m model \u001b[38;5;241m=\u001b[39m tf\u001b[38;5;241m.\u001b[39mkeras\u001b[38;5;241m.\u001b[39mSequential([\n\u001b[1;32m---> 10\u001b[0m   \u001b[43mtfp\u001b[49m\u001b[38;5;241;43m.\u001b[39;49m\u001b[43mlayers\u001b[49m\u001b[38;5;241;43m.\u001b[39;49m\u001b[43mIndependentNormal\u001b[49m\u001b[43m(\u001b[49m\u001b[43m \u001b[49m\u001b[43mscale\u001b[49m\u001b[38;5;241;43m=\u001b[39;49m\u001b[43mtf\u001b[49m\u001b[38;5;241;43m.\u001b[39;49m\u001b[43mones\u001b[49m\u001b[43m(\u001b[49m\u001b[43m[\u001b[49m\u001b[38;5;241;43m2\u001b[39;49m\u001b[43m]\u001b[49m\u001b[43m)\u001b[49m\u001b[43m)\u001b[49m,  \u001b[38;5;66;03m# Prior for weights\u001b[39;00m\n\u001b[0;32m     11\u001b[0m   tf\u001b[38;5;241m.\u001b[39mkeras\u001b[38;5;241m.\u001b[39mlayers\u001b[38;5;241m.\u001b[39mDense(\u001b[38;5;241m1\u001b[39m),\n\u001b[0;32m     12\u001b[0m ])\n\u001b[0;32m     14\u001b[0m \u001b[38;5;66;03m# Define prior for intercept\u001b[39;00m\n\u001b[0;32m     15\u001b[0m alpha_prior \u001b[38;5;241m=\u001b[39m tfp\u001b[38;5;241m.\u001b[39mdistributions\u001b[38;5;241m.\u001b[39mNormal(loc\u001b[38;5;241m=\u001b[39m\u001b[38;5;241m0.0\u001b[39m, scale\u001b[38;5;241m=\u001b[39m\u001b[38;5;241m1.0\u001b[39m)\n",
      "File \u001b[1;32m~\\AppData\\Local\\Programs\\Python\\Python311\\Lib\\site-packages\\tensorflow_probability\\python\\layers\\distribution_layer.py:951\u001b[0m, in \u001b[0;36mIndependentNormal.__init__\u001b[1;34m(self, event_shape, convert_to_tensor_fn, validate_args, **kwargs)\u001b[0m\n\u001b[0;32m    945\u001b[0m \u001b[38;5;66;03m# If there is a 'make_distribution_fn' keyword argument (e.g., because we\u001b[39;00m\n\u001b[0;32m    946\u001b[0m \u001b[38;5;66;03m# are being called from a `from_config` method), remove it.  We pass the\u001b[39;00m\n\u001b[0;32m    947\u001b[0m \u001b[38;5;66;03m# distribution function to `DistributionLambda.__init__` below as the first\u001b[39;00m\n\u001b[0;32m    948\u001b[0m \u001b[38;5;66;03m# positional argument.\u001b[39;00m\n\u001b[0;32m    949\u001b[0m kwargs\u001b[38;5;241m.\u001b[39mpop(\u001b[38;5;124m'\u001b[39m\u001b[38;5;124mmake_distribution_fn\u001b[39m\u001b[38;5;124m'\u001b[39m, \u001b[38;5;28;01mNone\u001b[39;00m)\n\u001b[1;32m--> 951\u001b[0m \u001b[38;5;28;43msuper\u001b[39;49m\u001b[43m(\u001b[49m\u001b[43mIndependentNormal\u001b[49m\u001b[43m,\u001b[49m\u001b[43m \u001b[49m\u001b[38;5;28;43mself\u001b[39;49m\u001b[43m)\u001b[49m\u001b[38;5;241;43m.\u001b[39;49m\u001b[38;5;21;43m__init__\u001b[39;49m\u001b[43m(\u001b[49m\n\u001b[0;32m    952\u001b[0m \u001b[43m    \u001b[49m\u001b[38;5;28;43;01mlambda\u001b[39;49;00m\u001b[43m \u001b[49m\u001b[43mt\u001b[49m\u001b[43m:\u001b[49m\u001b[43m \u001b[49m\u001b[43mIndependentNormal\u001b[49m\u001b[38;5;241;43m.\u001b[39;49m\u001b[43mnew\u001b[49m\u001b[43m(\u001b[49m\u001b[43mt\u001b[49m\u001b[43m,\u001b[49m\u001b[43m \u001b[49m\u001b[43mevent_shape\u001b[49m\u001b[43m,\u001b[49m\u001b[43m \u001b[49m\u001b[43mvalidate_args\u001b[49m\u001b[43m)\u001b[49m\u001b[43m,\u001b[49m\n\u001b[0;32m    953\u001b[0m \u001b[43m    \u001b[49m\u001b[43mconvert_to_tensor_fn\u001b[49m\u001b[43m,\u001b[49m\n\u001b[0;32m    954\u001b[0m \u001b[43m    \u001b[49m\u001b[38;5;241;43m*\u001b[39;49m\u001b[38;5;241;43m*\u001b[39;49m\u001b[43mkwargs\u001b[49m\u001b[43m)\u001b[49m\n\u001b[0;32m    956\u001b[0m \u001b[38;5;28mself\u001b[39m\u001b[38;5;241m.\u001b[39m_event_shape \u001b[38;5;241m=\u001b[39m event_shape\n\u001b[0;32m    957\u001b[0m \u001b[38;5;28mself\u001b[39m\u001b[38;5;241m.\u001b[39m_convert_to_tensor_fn \u001b[38;5;241m=\u001b[39m convert_to_tensor_fn\n",
      "File \u001b[1;32m~\\AppData\\Local\\Programs\\Python\\Python311\\Lib\\site-packages\\tensorflow_probability\\python\\layers\\distribution_layer.py:199\u001b[0m, in \u001b[0;36mDistributionLambda.__init__\u001b[1;34m(self, make_distribution_fn, convert_to_tensor_fn, **kwargs)\u001b[0m\n\u001b[0;32m    196\u001b[0m     distribution\u001b[38;5;241m.\u001b[39mget_shape \u001b[38;5;241m=\u001b[39m value\u001b[38;5;241m.\u001b[39mget_shape\n\u001b[0;32m    197\u001b[0m   \u001b[38;5;28;01mreturn\u001b[39;00m distribution, value\n\u001b[1;32m--> 199\u001b[0m \u001b[38;5;28;43msuper\u001b[39;49m\u001b[43m(\u001b[49m\u001b[43mDistributionLambda\u001b[49m\u001b[43m,\u001b[49m\u001b[43m \u001b[49m\u001b[38;5;28;43mself\u001b[39;49m\u001b[43m)\u001b[49m\u001b[38;5;241;43m.\u001b[39;49m\u001b[38;5;21;43m__init__\u001b[39;49m\u001b[43m(\u001b[49m\u001b[43m_fn\u001b[49m\u001b[43m,\u001b[49m\u001b[43m \u001b[49m\u001b[38;5;241;43m*\u001b[39;49m\u001b[38;5;241;43m*\u001b[39;49m\u001b[43mkwargs\u001b[49m\u001b[43m)\u001b[49m\n\u001b[0;32m    201\u001b[0m \u001b[38;5;66;03m# We need to ensure Keras tracks variables (eg, from activity regularizers\u001b[39;00m\n\u001b[0;32m    202\u001b[0m \u001b[38;5;66;03m# for type-II MLE). To accomplish this, we add the built distribution\u001b[39;00m\n\u001b[0;32m    203\u001b[0m \u001b[38;5;66;03m# variables and kwargs as members so `vars` picks them up (this is how\u001b[39;00m\n\u001b[0;32m    204\u001b[0m \u001b[38;5;66;03m# tf.Module implements its introspection).\u001b[39;00m\n\u001b[0;32m    205\u001b[0m \u001b[38;5;66;03m# Note also that we track all variables to support the user pattern:\u001b[39;00m\n\u001b[0;32m    206\u001b[0m \u001b[38;5;66;03m# `v.initializer for v in model.variable]`.\u001b[39;00m\n\u001b[0;32m    207\u001b[0m \u001b[38;5;28mself\u001b[39m\u001b[38;5;241m.\u001b[39m_most_recently_built_distribution_vars \u001b[38;5;241m=\u001b[39m \u001b[38;5;28;01mNone\u001b[39;00m\n",
      "File \u001b[1;32m~\\AppData\\Local\\Programs\\Python\\Python311\\Lib\\site-packages\\tensorflow\\python\\trackable\\base.py:204\u001b[0m, in \u001b[0;36mno_automatic_dependency_tracking.<locals>._method_wrapper\u001b[1;34m(self, *args, **kwargs)\u001b[0m\n\u001b[0;32m    202\u001b[0m \u001b[38;5;28mself\u001b[39m\u001b[38;5;241m.\u001b[39m_self_setattr_tracking \u001b[38;5;241m=\u001b[39m \u001b[38;5;28;01mFalse\u001b[39;00m  \u001b[38;5;66;03m# pylint: disable=protected-access\u001b[39;00m\n\u001b[0;32m    203\u001b[0m \u001b[38;5;28;01mtry\u001b[39;00m:\n\u001b[1;32m--> 204\u001b[0m   result \u001b[38;5;241m=\u001b[39m \u001b[43mmethod\u001b[49m\u001b[43m(\u001b[49m\u001b[38;5;28;43mself\u001b[39;49m\u001b[43m,\u001b[49m\u001b[43m \u001b[49m\u001b[38;5;241;43m*\u001b[39;49m\u001b[43margs\u001b[49m\u001b[43m,\u001b[49m\u001b[43m \u001b[49m\u001b[38;5;241;43m*\u001b[39;49m\u001b[38;5;241;43m*\u001b[39;49m\u001b[43mkwargs\u001b[49m\u001b[43m)\u001b[49m\n\u001b[0;32m    205\u001b[0m \u001b[38;5;28;01mfinally\u001b[39;00m:\n\u001b[0;32m    206\u001b[0m   \u001b[38;5;28mself\u001b[39m\u001b[38;5;241m.\u001b[39m_self_setattr_tracking \u001b[38;5;241m=\u001b[39m previous_value  \u001b[38;5;66;03m# pylint: disable=protected-access\u001b[39;00m\n",
      "File \u001b[1;32m~\\AppData\\Local\\Programs\\Python\\Python311\\Lib\\site-packages\\keras\\src\\layers\\core\\lambda_layer.py:139\u001b[0m, in \u001b[0;36mLambda.__init__\u001b[1;34m(self, function, output_shape, mask, arguments, **kwargs)\u001b[0m\n\u001b[0;32m    135\u001b[0m \u001b[38;5;129m@tf\u001b[39m\u001b[38;5;241m.\u001b[39m__internal__\u001b[38;5;241m.\u001b[39mtracking\u001b[38;5;241m.\u001b[39mno_automatic_dependency_tracking\n\u001b[0;32m    136\u001b[0m \u001b[38;5;28;01mdef\u001b[39;00m \u001b[38;5;21m__init__\u001b[39m(\n\u001b[0;32m    137\u001b[0m     \u001b[38;5;28mself\u001b[39m, function, output_shape\u001b[38;5;241m=\u001b[39m\u001b[38;5;28;01mNone\u001b[39;00m, mask\u001b[38;5;241m=\u001b[39m\u001b[38;5;28;01mNone\u001b[39;00m, arguments\u001b[38;5;241m=\u001b[39m\u001b[38;5;28;01mNone\u001b[39;00m, \u001b[38;5;241m*\u001b[39m\u001b[38;5;241m*\u001b[39mkwargs\n\u001b[0;32m    138\u001b[0m ):\n\u001b[1;32m--> 139\u001b[0m     \u001b[38;5;28;43msuper\u001b[39;49m\u001b[43m(\u001b[49m\u001b[43m)\u001b[49m\u001b[38;5;241;43m.\u001b[39;49m\u001b[38;5;21;43m__init__\u001b[39;49m\u001b[43m(\u001b[49m\u001b[38;5;241;43m*\u001b[39;49m\u001b[38;5;241;43m*\u001b[39;49m\u001b[43mkwargs\u001b[49m\u001b[43m)\u001b[49m\n\u001b[0;32m    141\u001b[0m     \u001b[38;5;28mself\u001b[39m\u001b[38;5;241m.\u001b[39marguments \u001b[38;5;241m=\u001b[39m arguments \u001b[38;5;129;01mor\u001b[39;00m {}\n\u001b[0;32m    142\u001b[0m     \u001b[38;5;28mself\u001b[39m\u001b[38;5;241m.\u001b[39mfunction \u001b[38;5;241m=\u001b[39m function\n",
      "File \u001b[1;32m~\\AppData\\Local\\Programs\\Python\\Python311\\Lib\\site-packages\\tensorflow\\python\\trackable\\base.py:204\u001b[0m, in \u001b[0;36mno_automatic_dependency_tracking.<locals>._method_wrapper\u001b[1;34m(self, *args, **kwargs)\u001b[0m\n\u001b[0;32m    202\u001b[0m \u001b[38;5;28mself\u001b[39m\u001b[38;5;241m.\u001b[39m_self_setattr_tracking \u001b[38;5;241m=\u001b[39m \u001b[38;5;28;01mFalse\u001b[39;00m  \u001b[38;5;66;03m# pylint: disable=protected-access\u001b[39;00m\n\u001b[0;32m    203\u001b[0m \u001b[38;5;28;01mtry\u001b[39;00m:\n\u001b[1;32m--> 204\u001b[0m   result \u001b[38;5;241m=\u001b[39m \u001b[43mmethod\u001b[49m\u001b[43m(\u001b[49m\u001b[38;5;28;43mself\u001b[39;49m\u001b[43m,\u001b[49m\u001b[43m \u001b[49m\u001b[38;5;241;43m*\u001b[39;49m\u001b[43margs\u001b[49m\u001b[43m,\u001b[49m\u001b[43m \u001b[49m\u001b[38;5;241;43m*\u001b[39;49m\u001b[38;5;241;43m*\u001b[39;49m\u001b[43mkwargs\u001b[49m\u001b[43m)\u001b[49m\n\u001b[0;32m    205\u001b[0m \u001b[38;5;28;01mfinally\u001b[39;00m:\n\u001b[0;32m    206\u001b[0m   \u001b[38;5;28mself\u001b[39m\u001b[38;5;241m.\u001b[39m_self_setattr_tracking \u001b[38;5;241m=\u001b[39m previous_value  \u001b[38;5;66;03m# pylint: disable=protected-access\u001b[39;00m\n",
      "File \u001b[1;32m~\\AppData\\Local\\Programs\\Python\\Python311\\Lib\\site-packages\\keras\\src\\engine\\base_layer.py:340\u001b[0m, in \u001b[0;36mLayer.__init__\u001b[1;34m(self, trainable, name, dtype, dynamic, **kwargs)\u001b[0m\n\u001b[0;32m    329\u001b[0m allowed_kwargs \u001b[38;5;241m=\u001b[39m {\n\u001b[0;32m    330\u001b[0m     \u001b[38;5;124m\"\u001b[39m\u001b[38;5;124minput_dim\u001b[39m\u001b[38;5;124m\"\u001b[39m,\n\u001b[0;32m    331\u001b[0m     \u001b[38;5;124m\"\u001b[39m\u001b[38;5;124minput_shape\u001b[39m\u001b[38;5;124m\"\u001b[39m,\n\u001b[1;32m   (...)\u001b[0m\n\u001b[0;32m    337\u001b[0m     \u001b[38;5;124m\"\u001b[39m\u001b[38;5;124mimplementation\u001b[39m\u001b[38;5;124m\"\u001b[39m,\n\u001b[0;32m    338\u001b[0m }\n\u001b[0;32m    339\u001b[0m \u001b[38;5;66;03m# Validate optional keyword arguments.\u001b[39;00m\n\u001b[1;32m--> 340\u001b[0m \u001b[43mgeneric_utils\u001b[49m\u001b[38;5;241;43m.\u001b[39;49m\u001b[43mvalidate_kwargs\u001b[49m\u001b[43m(\u001b[49m\u001b[43mkwargs\u001b[49m\u001b[43m,\u001b[49m\u001b[43m \u001b[49m\u001b[43mallowed_kwargs\u001b[49m\u001b[43m)\u001b[49m\n\u001b[0;32m    342\u001b[0m \u001b[38;5;66;03m# Mutable properties\u001b[39;00m\n\u001b[0;32m    343\u001b[0m \u001b[38;5;66;03m# Indicates whether the layer's weights are updated during training\u001b[39;00m\n\u001b[0;32m    344\u001b[0m \u001b[38;5;66;03m# and whether the layer's updates are run during training.\u001b[39;00m\n\u001b[0;32m    345\u001b[0m \u001b[38;5;28;01mif\u001b[39;00m \u001b[38;5;129;01mnot\u001b[39;00m (\n\u001b[0;32m    346\u001b[0m     \u001b[38;5;28misinstance\u001b[39m(trainable, \u001b[38;5;28mbool\u001b[39m)\n\u001b[0;32m    347\u001b[0m     \u001b[38;5;129;01mor\u001b[39;00m (\n\u001b[1;32m   (...)\u001b[0m\n\u001b[0;32m    350\u001b[0m     )\n\u001b[0;32m    351\u001b[0m ):\n",
      "File \u001b[1;32m~\\AppData\\Local\\Programs\\Python\\Python311\\Lib\\site-packages\\keras\\src\\utils\\generic_utils.py:514\u001b[0m, in \u001b[0;36mvalidate_kwargs\u001b[1;34m(kwargs, allowed_kwargs, error_message)\u001b[0m\n\u001b[0;32m    512\u001b[0m \u001b[38;5;28;01mfor\u001b[39;00m kwarg \u001b[38;5;129;01min\u001b[39;00m kwargs:\n\u001b[0;32m    513\u001b[0m     \u001b[38;5;28;01mif\u001b[39;00m kwarg \u001b[38;5;129;01mnot\u001b[39;00m \u001b[38;5;129;01min\u001b[39;00m allowed_kwargs:\n\u001b[1;32m--> 514\u001b[0m         \u001b[38;5;28;01mraise\u001b[39;00m \u001b[38;5;167;01mTypeError\u001b[39;00m(error_message, kwarg)\n",
      "\u001b[1;31mTypeError\u001b[0m: ('Keyword argument not understood:', 'scale')"
     ]
    }
   ],
   "source": [
    "\n"
   ]
  },
  {
   "cell_type": "code",
   "execution_count": 31,
   "id": "bfeec8f559467c54",
   "metadata": {
    "ExecuteTime": {
     "end_time": "2024-02-21T15:26:58.687306200Z",
     "start_time": "2024-02-21T15:26:58.587495600Z"
    },
    "collapsed": false,
    "jupyter": {
     "outputs_hidden": false
    }
   },
   "outputs": [
    {
     "name": "stdout",
     "output_type": "stream",
     "text": [
      "<class 'tensorflow.python.framework.ops.EagerTensor'>\n"
     ]
    },
    {
     "ename": "InvalidArgumentError",
     "evalue": "{{function_node __wrapped__StridedSlice_device_/job:localhost/replica:0/task:0/device:CPU:0}} Index out of range using input dim 1; input has only 1 dims [Op:StridedSlice] name: strided_slice/",
     "output_type": "error",
     "traceback": [
      "\u001b[1;31m---------------------------------------------------------------------------\u001b[0m",
      "\u001b[1;31mInvalidArgumentError\u001b[0m                      Traceback (most recent call last)",
      "Cell \u001b[1;32mIn[31], line 21\u001b[0m\n\u001b[0;32m     18\u001b[0m   \u001b[38;5;28mprint\u001b[39m(features\u001b[38;5;241m.\u001b[39mshape), \u001b[38;5;28mprint\u001b[39m(X\u001b[38;5;241m.\u001b[39mshape)\n\u001b[0;32m     19\u001b[0m   \u001b[38;5;28;01mreturn\u001b[39;00m features\u001b[38;5;66;03m#tf.concat([features,X], axis=0)\u001b[39;00m\n\u001b[1;32m---> 21\u001b[0m Y\u001b[38;5;241m=\u001b[39m\u001b[43mcreate_polynomial_features\u001b[49m\u001b[43m(\u001b[49m\u001b[43mX\u001b[49m\u001b[43m,\u001b[49m\u001b[38;5;241;43m2\u001b[39;49m\u001b[43m)\u001b[49m\n\u001b[0;32m     22\u001b[0m \u001b[38;5;28mprint\u001b[39m(Y)\n",
      "Cell \u001b[1;32mIn[31], line 13\u001b[0m, in \u001b[0;36mcreate_polynomial_features\u001b[1;34m(X, degree)\u001b[0m\n\u001b[0;32m     10\u001b[0m \u001b[38;5;28;01mfor\u001b[39;00m i \u001b[38;5;129;01min\u001b[39;00m \u001b[38;5;28mrange\u001b[39m(\u001b[38;5;241m0\u001b[39m, degree \u001b[38;5;241m+\u001b[39m \u001b[38;5;241m1\u001b[39m):\n\u001b[0;32m     12\u001b[0m   \u001b[38;5;28;01mfor\u001b[39;00m j \u001b[38;5;129;01min\u001b[39;00m \u001b[38;5;28mrange\u001b[39m(i):\n\u001b[1;32m---> 13\u001b[0m     features\u001b[38;5;241m.\u001b[39mappend(tf\u001b[38;5;241m.\u001b[39mreduce_prod(\u001b[43mX\u001b[49m\u001b[43m[\u001b[49m\u001b[43m:\u001b[49m\u001b[43m,\u001b[49m\u001b[43m \u001b[49m\u001b[43mj\u001b[49m\u001b[43m:\u001b[49m\u001b[43m]\u001b[49m, axis\u001b[38;5;241m=\u001b[39m\u001b[38;5;241m0\u001b[39m)\u001b[38;5;241m*\u001b[39m\u001b[38;5;241m*\u001b[39mi)\n\u001b[0;32m     15\u001b[0m features \u001b[38;5;241m=\u001b[39m tf\u001b[38;5;241m.\u001b[39mconvert_to_tensor(features)  \n\u001b[0;32m     17\u001b[0m \u001b[38;5;28mprint\u001b[39m(\u001b[38;5;28mtype\u001b[39m(features)), \u001b[38;5;28mprint\u001b[39m(\u001b[38;5;28mtype\u001b[39m(X))\n",
      "File \u001b[1;32m~\\AppData\\Local\\Programs\\Python\\Python311\\Lib\\site-packages\\tensorflow\\python\\util\\traceback_utils.py:153\u001b[0m, in \u001b[0;36mfilter_traceback.<locals>.error_handler\u001b[1;34m(*args, **kwargs)\u001b[0m\n\u001b[0;32m    151\u001b[0m \u001b[38;5;28;01mexcept\u001b[39;00m \u001b[38;5;167;01mException\u001b[39;00m \u001b[38;5;28;01mas\u001b[39;00m e:\n\u001b[0;32m    152\u001b[0m   filtered_tb \u001b[38;5;241m=\u001b[39m _process_traceback_frames(e\u001b[38;5;241m.\u001b[39m__traceback__)\n\u001b[1;32m--> 153\u001b[0m   \u001b[38;5;28;01mraise\u001b[39;00m e\u001b[38;5;241m.\u001b[39mwith_traceback(filtered_tb) \u001b[38;5;28;01mfrom\u001b[39;00m \u001b[38;5;28;01mNone\u001b[39;00m\n\u001b[0;32m    154\u001b[0m \u001b[38;5;28;01mfinally\u001b[39;00m:\n\u001b[0;32m    155\u001b[0m   \u001b[38;5;28;01mdel\u001b[39;00m filtered_tb\n",
      "File \u001b[1;32m~\\AppData\\Local\\Programs\\Python\\Python311\\Lib\\site-packages\\tensorflow\\python\\framework\\ops.py:5883\u001b[0m, in \u001b[0;36mraise_from_not_ok_status\u001b[1;34m(e, name)\u001b[0m\n\u001b[0;32m   5881\u001b[0m \u001b[38;5;28;01mdef\u001b[39;00m \u001b[38;5;21mraise_from_not_ok_status\u001b[39m(e, name) \u001b[38;5;241m-\u001b[39m\u001b[38;5;241m>\u001b[39m NoReturn:\n\u001b[0;32m   5882\u001b[0m   e\u001b[38;5;241m.\u001b[39mmessage \u001b[38;5;241m+\u001b[39m\u001b[38;5;241m=\u001b[39m (\u001b[38;5;124m\"\u001b[39m\u001b[38;5;124m name: \u001b[39m\u001b[38;5;124m\"\u001b[39m \u001b[38;5;241m+\u001b[39m \u001b[38;5;28mstr\u001b[39m(name \u001b[38;5;28;01mif\u001b[39;00m name \u001b[38;5;129;01mis\u001b[39;00m \u001b[38;5;129;01mnot\u001b[39;00m \u001b[38;5;28;01mNone\u001b[39;00m \u001b[38;5;28;01melse\u001b[39;00m \u001b[38;5;124m\"\u001b[39m\u001b[38;5;124m\"\u001b[39m))\n\u001b[1;32m-> 5883\u001b[0m   \u001b[38;5;28;01mraise\u001b[39;00m core\u001b[38;5;241m.\u001b[39m_status_to_exception(e) \u001b[38;5;28;01mfrom\u001b[39;00m \u001b[38;5;28;01mNone\u001b[39;00m\n",
      "\u001b[1;31mInvalidArgumentError\u001b[0m: {{function_node __wrapped__StridedSlice_device_/job:localhost/replica:0/task:0/device:CPU:0}} Index out of range using input dim 1; input has only 1 dims [Op:StridedSlice] name: strided_slice/"
     ]
    }
   ],
   "source": []
  },
  {
   "cell_type": "code",
   "execution_count": 8,
   "id": "d04ce7c190e0b0ec",
   "metadata": {
    "ExecuteTime": {
     "end_time": "2024-02-22T14:54:46.819757Z",
     "start_time": "2024-02-22T14:54:46.786485200Z"
    },
    "collapsed": false,
    "jupyter": {
     "outputs_hidden": false
    }
   },
   "outputs": [],
   "source": []
  },
  {
   "cell_type": "code",
   "execution_count": null,
   "id": "a2e28c6dda654d04",
   "metadata": {
    "collapsed": false,
    "jupyter": {
     "outputs_hidden": false
    }
   },
   "outputs": [],
   "source": []
  }
 ],
 "metadata": {
  "kernelspec": {
   "display_name": "Python 3 (ipykernel)",
   "language": "python",
   "name": "python3"
  },
  "language_info": {
   "codemirror_mode": {
    "name": "ipython",
    "version": 3
   },
   "file_extension": ".py",
   "mimetype": "text/x-python",
   "name": "python",
   "nbconvert_exporter": "python",
   "pygments_lexer": "ipython3",
   "version": "3.8.18"
  }
 },
 "nbformat": 4,
 "nbformat_minor": 5
}
